{
 "cells": [
  {
   "cell_type": "markdown",
   "metadata": {},
   "source": [
    "# Multi-class Refactoring Recommendation with SMOTE and Tree-based Algorithms\n",
    "by Jerelyn Co (Jan 2018)\n",
    "\n",
    "Main Reference: Kumar, L., & Sureka, A. (2017). Application of LSSVM and SMOTE on Seven Open Source Projects for Predicting Refactoring at Class Level. Asia-Pacific Software Engineering Conference (APSEC 2017), 90–99. https://doi.org/10.1109/APSEC.2017.15"
   ]
  },
  {
   "cell_type": "code",
   "execution_count": 4,
   "metadata": {},
   "outputs": [
    {
     "name": "stdout",
     "output_type": "stream",
     "text": [
      "Populating the interactive namespace from numpy and matplotlib\n"
     ]
    }
   ],
   "source": [
    "import os\n",
    "\n",
    "import numpy as np\n",
    "import pandas as pd\n",
    "\n",
    "import xgboost as xgb\n",
    "\n",
    "import seaborn as sn\n",
    "import matplotlib.pyplot as plt\n",
    "\n",
    "from imblearn.over_sampling import SMOTE\n",
    "\n",
    "from sklearn.model_selection import KFold,train_test_split\n",
    "from sklearn import preprocessing\n",
    "from sklearn.model_selection import GridSearchCV\n",
    "\n",
    "from sklearn.ensemble import RandomForestClassifier\n",
    "\n",
    "from sklearn.metrics import recall_score, classification_report, confusion_matrix, accuracy_score\n",
    "\n",
    "\n",
    "%pylab inline\n",
    "from pylab import rcParams\n",
    "rcParams['figure.figsize'] = 10,5"
   ]
  },
  {
   "cell_type": "markdown",
   "metadata": {},
   "source": [
    "### Classification Utils"
   ]
  },
  {
   "cell_type": "code",
   "execution_count": 22,
   "metadata": {
    "collapsed": true
   },
   "outputs": [],
   "source": [
    "TEST_SIZE = 0.3\n",
    "RAND_STATE = 12\n",
    "CV = 5"
   ]
  },
  {
   "cell_type": "code",
   "execution_count": 52,
   "metadata": {
    "collapsed": true
   },
   "outputs": [],
   "source": [
    "def get_inputs(data, features, label, binary_csf=True):\n",
    "    if binary_csf:\n",
    "        raw_X, y = data[features], data[label]\n",
    "    else:\n",
    "        # Label encoding for refactoring types. Transforming categorical labels to 0 to n_classes - 1.\n",
    "        le = preprocessing.LabelEncoder()\n",
    "        le.fit(data[label])\n",
    "        data[label] = le.transform(data[label])\n",
    "        raw_X, y = data[features], data[label]\n",
    "    scaler = preprocessing.MinMaxScaler(feature_range=(0, 1))\n",
    "    X = scaler.fit_transform(raw_X)\n",
    "    return X, y"
   ]
  },
  {
   "cell_type": "code",
   "execution_count": 7,
   "metadata": {
    "collapsed": true
   },
   "outputs": [],
   "source": [
    "def metrics_report(true, pred):\n",
    "    print('Model Report:')\n",
    "    print(classification_report(true, pred))\n",
    "\n",
    "    print(\"Accuracy Report:\")\n",
    "    print(accuracy_score(true, pred) * 100)\n",
    "    print(\"-----\\n\")"
   ]
  },
  {
   "cell_type": "code",
   "execution_count": 76,
   "metadata": {},
   "outputs": [],
   "source": [
    "def feature_importances(est, features):\n",
    "    importances = est.feature_importances_\n",
    "    std = np.std([tree.feature_importances_ for tree in est.estimators_],\n",
    "                 axis=0)\n",
    "    indices = np.argsort(importances)[::-1]\n",
    "\n",
    "    # Print the feature ranking\n",
    "    print(\"Feature ranking:\")\n",
    "\n",
    "    for f in range(len(features)):\n",
    "        print(\"%d. feature %s (%f)\" % (f + 1, features[indices[f]], importances[indices[f]]))\n",
    "\n",
    "    # Plot the feature importances of the forest\n",
    "    plt.figure()\n",
    "    plt.title(\"Feature importances\")\n",
    "    plt.bar(range(len(features)), importances[indices],\n",
    "           color=\"r\", yerr=std[indices], align=\"center\")\n",
    "    plt.xticks(range(len(features)), [features[i] for i in indices])\n",
    "    plt.xlim([-1, len(features)])\n",
    "    plt.show()\n",
    "    \n",
    "    return [features[i] for i in indices]"
   ]
  },
  {
   "cell_type": "code",
   "execution_count": null,
   "metadata": {
    "collapsed": true
   },
   "outputs": [],
   "source": [
    "def RF(X_train, y_train, X_test, y_test, tuning_params):\n",
    "    clf_rf = GridSearchCV(RandomForestClassifier(), tuning_params, cv=CV)\n",
    "    clf_rf.fit(X_train, y_train)\n",
    "\n",
    "    print(\"Best parameters set found on development set: {}\".format(clf_rf.best_params_))\n",
    "    print(\"Grid scores on development set:\")\n",
    "    means = clf_rf.cv_results_['mean_test_score']\n",
    "    stds = clf_rf.cv_results_['std_test_score']\n",
    "    for mean, std, params in zip(means, stds, clf_rf.cv_results_['params']):\n",
    "        print(\"%0.3f (+/-%0.03f) for %r\"\n",
    "              % (mean, std * 2, params))\n",
    "\n",
    "    print(\"Detailed classification report:\\n\")\n",
    "    print(\"The model is trained on the full development set.\")\n",
    "    print(\"The scores are computed on the full evaluation set.\\n\")\n",
    "    y_true, y_pred = y_test, clf_rf.predict(X_test)\n",
    "    metrics_report(y_test, y_pred)\n",
    "    \n",
    "    return clf_rf.best_estimator_, y_true, y_pred"
   ]
  },
  {
   "cell_type": "markdown",
   "metadata": {},
   "source": [
    "### Load Datasets"
   ]
  },
  {
   "cell_type": "code",
   "execution_count": 8,
   "metadata": {
    "collapsed": true
   },
   "outputs": [],
   "source": [
    "ant_dir = \"data/raw/badsmells/data/apache-ant/apache-ant/\"\n",
    "xerces_dir = \"data/raw/badsmells/data/apache-ant/xerces-j/\"\n",
    "\n",
    "ddata_dir = \"data/transformed/\""
   ]
  },
  {
   "cell_type": "code",
   "execution_count": 12,
   "metadata": {},
   "outputs": [
    {
     "data": {
      "text/html": [
       "<div>\n",
       "<style>\n",
       "    .dataframe thead tr:only-child th {\n",
       "        text-align: right;\n",
       "    }\n",
       "\n",
       "    .dataframe thead th {\n",
       "        text-align: left;\n",
       "    }\n",
       "\n",
       "    .dataframe tbody tr th {\n",
       "        vertical-align: top;\n",
       "    }\n",
       "</style>\n",
       "<table border=\"1\" class=\"dataframe\">\n",
       "  <thead>\n",
       "    <tr style=\"text-align: right;\">\n",
       "      <th></th>\n",
       "      <th>Unnamed: 0</th>\n",
       "      <th>Refactoring</th>\n",
       "      <th>Version_x</th>\n",
       "      <th>Class</th>\n",
       "      <th>NC</th>\n",
       "      <th>AG</th>\n",
       "      <th>NDC</th>\n",
       "      <th>ADD</th>\n",
       "      <th>DEL</th>\n",
       "      <th>CHURN</th>\n",
       "      <th>...</th>\n",
       "      <th>NOC</th>\n",
       "      <th>RFC</th>\n",
       "      <th>CBO</th>\n",
       "      <th>LCOM</th>\n",
       "      <th>NOM</th>\n",
       "      <th>NOA</th>\n",
       "      <th>NOO</th>\n",
       "      <th>CCBC</th>\n",
       "      <th>C3</th>\n",
       "      <th>w_ref</th>\n",
       "    </tr>\n",
       "  </thead>\n",
       "  <tbody>\n",
       "    <tr>\n",
       "      <th>0</th>\n",
       "      <td>0</td>\n",
       "      <td>not</td>\n",
       "      <td>1.5</td>\n",
       "      <td>main.org.apache.tools.ant.Diagnostics</td>\n",
       "      <td>1</td>\n",
       "      <td>18638363.0</td>\n",
       "      <td>3</td>\n",
       "      <td>20.0</td>\n",
       "      <td>4.0</td>\n",
       "      <td>204.0</td>\n",
       "      <td>...</td>\n",
       "      <td>0</td>\n",
       "      <td>63</td>\n",
       "      <td>12</td>\n",
       "      <td>136</td>\n",
       "      <td>17</td>\n",
       "      <td>0</td>\n",
       "      <td>0</td>\n",
       "      <td>7.497003</td>\n",
       "      <td>0.148153</td>\n",
       "      <td>0</td>\n",
       "    </tr>\n",
       "    <tr>\n",
       "      <th>1</th>\n",
       "      <td>1</td>\n",
       "      <td>not</td>\n",
       "      <td>1.5</td>\n",
       "      <td>main.org.apache.tools.ant.Diagnostics</td>\n",
       "      <td>1</td>\n",
       "      <td>18638363.0</td>\n",
       "      <td>3</td>\n",
       "      <td>20.0</td>\n",
       "      <td>4.0</td>\n",
       "      <td>204.0</td>\n",
       "      <td>...</td>\n",
       "      <td>0</td>\n",
       "      <td>122</td>\n",
       "      <td>21</td>\n",
       "      <td>459</td>\n",
       "      <td>31</td>\n",
       "      <td>0</td>\n",
       "      <td>0</td>\n",
       "      <td>8.156498</td>\n",
       "      <td>0.150041</td>\n",
       "      <td>0</td>\n",
       "    </tr>\n",
       "    <tr>\n",
       "      <th>2</th>\n",
       "      <td>2</td>\n",
       "      <td>not</td>\n",
       "      <td>1.5.4</td>\n",
       "      <td>main.org.apache.tools.ant.Diagnostics</td>\n",
       "      <td>1</td>\n",
       "      <td>18638363.0</td>\n",
       "      <td>3</td>\n",
       "      <td>20.0</td>\n",
       "      <td>4.0</td>\n",
       "      <td>204.0</td>\n",
       "      <td>...</td>\n",
       "      <td>0</td>\n",
       "      <td>63</td>\n",
       "      <td>12</td>\n",
       "      <td>136</td>\n",
       "      <td>17</td>\n",
       "      <td>0</td>\n",
       "      <td>0</td>\n",
       "      <td>7.497003</td>\n",
       "      <td>0.148153</td>\n",
       "      <td>0</td>\n",
       "    </tr>\n",
       "    <tr>\n",
       "      <th>3</th>\n",
       "      <td>3</td>\n",
       "      <td>not</td>\n",
       "      <td>1.5.4</td>\n",
       "      <td>main.org.apache.tools.ant.Diagnostics</td>\n",
       "      <td>1</td>\n",
       "      <td>18638363.0</td>\n",
       "      <td>3</td>\n",
       "      <td>20.0</td>\n",
       "      <td>4.0</td>\n",
       "      <td>204.0</td>\n",
       "      <td>...</td>\n",
       "      <td>0</td>\n",
       "      <td>122</td>\n",
       "      <td>21</td>\n",
       "      <td>459</td>\n",
       "      <td>31</td>\n",
       "      <td>0</td>\n",
       "      <td>0</td>\n",
       "      <td>8.156498</td>\n",
       "      <td>0.150041</td>\n",
       "      <td>0</td>\n",
       "    </tr>\n",
       "    <tr>\n",
       "      <th>4</th>\n",
       "      <td>4</td>\n",
       "      <td>not</td>\n",
       "      <td>1.5</td>\n",
       "      <td>main.org.apache.tools.ant.filters.LineContains</td>\n",
       "      <td>1</td>\n",
       "      <td>30192410.0</td>\n",
       "      <td>3</td>\n",
       "      <td>19.0</td>\n",
       "      <td>11.0</td>\n",
       "      <td>1911.0</td>\n",
       "      <td>...</td>\n",
       "      <td>0</td>\n",
       "      <td>21</td>\n",
       "      <td>4</td>\n",
       "      <td>8</td>\n",
       "      <td>8</td>\n",
       "      <td>8</td>\n",
       "      <td>0</td>\n",
       "      <td>7.533635</td>\n",
       "      <td>0.371463</td>\n",
       "      <td>0</td>\n",
       "    </tr>\n",
       "  </tbody>\n",
       "</table>\n",
       "<p>5 rows × 25 columns</p>\n",
       "</div>"
      ],
      "text/plain": [
       "   Unnamed: 0 Refactoring Version_x  \\\n",
       "0           0         not       1.5   \n",
       "1           1         not       1.5   \n",
       "2           2         not     1.5.4   \n",
       "3           3         not     1.5.4   \n",
       "4           4         not       1.5   \n",
       "\n",
       "                                            Class  NC          AG  NDC   ADD  \\\n",
       "0           main.org.apache.tools.ant.Diagnostics   1  18638363.0    3  20.0   \n",
       "1           main.org.apache.tools.ant.Diagnostics   1  18638363.0    3  20.0   \n",
       "2           main.org.apache.tools.ant.Diagnostics   1  18638363.0    3  20.0   \n",
       "3           main.org.apache.tools.ant.Diagnostics   1  18638363.0    3  20.0   \n",
       "4  main.org.apache.tools.ant.filters.LineContains   1  30192410.0    3  19.0   \n",
       "\n",
       "    DEL   CHURN  ...    NOC  RFC  CBO  LCOM  NOM  NOA  NOO      CCBC  \\\n",
       "0   4.0   204.0  ...      0   63   12   136   17    0    0  7.497003   \n",
       "1   4.0   204.0  ...      0  122   21   459   31    0    0  8.156498   \n",
       "2   4.0   204.0  ...      0   63   12   136   17    0    0  7.497003   \n",
       "3   4.0   204.0  ...      0  122   21   459   31    0    0  8.156498   \n",
       "4  11.0  1911.0  ...      0   21    4     8    8    8    0  7.533635   \n",
       "\n",
       "         C3  w_ref  \n",
       "0  0.148153      0  \n",
       "1  0.150041      0  \n",
       "2  0.148153      0  \n",
       "3  0.150041      0  \n",
       "4  0.371463      0  \n",
       "\n",
       "[5 rows x 25 columns]"
      ]
     },
     "execution_count": 12,
     "metadata": {},
     "output_type": "execute_result"
    }
   ],
   "source": [
    "data_df_csf = pd.read_csv(ddata_dir+\"proc_prod.csv\")\n",
    "data_df_csf.head()"
   ]
  },
  {
   "cell_type": "code",
   "execution_count": 14,
   "metadata": {
    "collapsed": true
   },
   "outputs": [],
   "source": [
    "info_cols = ['Version_x',  'Version_y', 'Class', 'nsplit']\n",
    "bin_label = ['w_ref']\n",
    "multi_label = [\"Refactoring\"]\n",
    "proc_cols = ['NC', 'AG', 'NDC', 'ADD', 'DEL', 'CHURN']\n",
    "prod_cols = ['LOC', 'WMC', 'DIT', 'NOC', 'RFC','CBO', 'LCOM', 'NOM', 'NOA', 'NOO', 'CCBC', 'C3']"
   ]
  },
  {
   "cell_type": "code",
   "execution_count": 16,
   "metadata": {
    "collapsed": true
   },
   "outputs": [],
   "source": [
    "data_df_csf.dropna(inplace=True)"
   ]
  },
  {
   "cell_type": "markdown",
   "metadata": {},
   "source": [
    "## Binary Classification"
   ]
  },
  {
   "cell_type": "code",
   "execution_count": 75,
   "metadata": {},
   "outputs": [
    {
     "data": {
      "text/plain": [
       "<matplotlib.axes._subplots.AxesSubplot at 0x7fb22b733a58>"
      ]
     },
     "execution_count": 75,
     "metadata": {},
     "output_type": "execute_result"
    },
    {
     "data": {
      "image/png": "[encoded data removed]",
      "text/plain": [
       "<matplotlib.figure.Figure at 0x7fb22b7ec9b0>"
      ]
     },
     "metadata": {},
     "output_type": "display_data"
    }
   ],
   "source": [
    "data_df_csf[\"w_ref\"].value_counts().plot(kind=\"bar\")"
   ]
  },
  {
   "cell_type": "code",
   "execution_count": 53,
   "metadata": {
    "scrolled": true
   },
   "outputs": [],
   "source": [
    "features = proc_cols+prod_cols\n",
    "X, y = get_inputs(data_df_csf, features, bin_label)\n",
    "X_train, X_test, y_train, y_test = train_test_split(X, y, test_size=TEST_SIZE, random_state=RAND_STATE)"
   ]
  },
  {
   "cell_type": "markdown",
   "metadata": {},
   "source": [
    "### Using Random Forest"
   ]
  },
  {
   "cell_type": "code",
   "execution_count": 64,
   "metadata": {
    "scrolled": true
   },
   "outputs": [
    {
     "name": "stdout",
     "output_type": "stream",
     "text": [
      "Best parameters set found on development set: {'n_estimators': 50}\n",
      "Grid scores on development set:\n",
      "0.564 (+/-0.081) for {'n_estimators': 10}\n",
      "0.569 (+/-0.061) for {'n_estimators': 20}\n",
      "0.573 (+/-0.098) for {'n_estimators': 50}\n",
      "0.559 (+/-0.082) for {'n_estimators': 100}\n",
      "Detailed classification report:\n",
      "\n",
      "The model is trained on the full development set.\n",
      "The scores are computed on the full evaluation set.\n",
      "\n",
      "Model Report:\n",
      "             precision    recall  f1-score   support\n",
      "\n",
      "          0       0.57      0.65      0.61       109\n",
      "          1       0.30      0.23      0.26        69\n",
      "\n",
      "avg / total       0.47      0.49      0.47       178\n",
      "\n",
      "Accuracy Report:\n",
      "48.8764044944\n",
      "-----\n",
      "\n",
      "CPU times: user 1.41 s, sys: 3.86 ms, total: 1.42 s\n",
      "Wall time: 1.41 s\n"
     ]
    }
   ],
   "source": [
    "%%time\n",
    "tuning_params = [{'n_estimators': [10, 20, 50, 100]}]\n",
    "est, y_true, y_pred = RF(X_train, y_train.values.ravel(), X_test, y_test.values.ravel(), tuning_params)"
   ]
  },
  {
   "cell_type": "code",
   "execution_count": 79,
   "metadata": {},
   "outputs": [
    {
     "name": "stdout",
     "output_type": "stream",
     "text": [
      "Feature ranking:\n",
      "1. feature CCBC (0.102552)\n",
      "2. feature C3 (0.094097)\n",
      "3. feature CHURN (0.089436)\n",
      "4. feature LOC (0.088583)\n",
      "5. feature ADD (0.082637)\n",
      "6. feature DEL (0.080476)\n",
      "7. feature AG (0.073787)\n",
      "8. feature RFC (0.068726)\n",
      "9. feature LCOM (0.064059)\n",
      "10. feature WMC (0.061972)\n",
      "11. feature NDC (0.056623)\n",
      "12. feature NOM (0.054775)\n",
      "13. feature CBO (0.043094)\n",
      "14. feature NOC (0.015903)\n",
      "15. feature NOA (0.009270)\n",
      "16. feature DIT (0.007800)\n",
      "17. feature NOO (0.006210)\n",
      "18. feature NC (0.000000)\n"
     ]
    },
    {
     "data": {
      "image/png": "[encoded data removed]",
      "text/plain": [
       "<matplotlib.figure.Figure at 0x7fb22bf9cbe0>"
      ]
     },
     "metadata": {},
     "output_type": "display_data"
    }
   ],
   "source": [
    "feature_ranking = feature_importances(est, features)"
   ]
  },
  {
   "cell_type": "markdown",
   "metadata": {},
   "source": [
    "### Using XGBoost\n",
    "\n",
    "[Kaggle Introduction](https://www.kaggle.com/babatee/intro-xgboost-classification)"
   ]
  },
  {
   "cell_type": "code",
   "execution_count": 82,
   "metadata": {},
   "outputs": [
    {
     "name": "stdout",
     "output_type": "stream",
     "text": [
      "Model Report:\n",
      "             precision    recall  f1-score   support\n",
      "\n",
      "          0       0.61      0.74      0.67       109\n",
      "          1       0.39      0.26      0.31        69\n",
      "\n",
      "avg / total       0.53      0.56      0.53       178\n",
      "\n",
      "Accuracy Report:\n",
      "55.6179775281\n",
      "-----\n",
      "\n",
      "CPU times: user 33.6 ms, sys: 0 ns, total: 33.6 ms\n",
      "Wall time: 32.2 ms\n"
     ]
    }
   ],
   "source": [
    "%%time\n",
    "model1 = xgb.XGBClassifier()\n",
    "train_model1 = model1.fit(X_train, y_train.values.ravel())\n",
    "\n",
    "pred1 = train_model1.predict(X_test)\n",
    "\n",
    "metrics_report(y_test, pred1)"
   ]
  },
  {
   "cell_type": "code",
   "execution_count": 118,
   "metadata": {
    "scrolled": true
   },
   "outputs": [
    {
     "name": "stdout",
     "output_type": "stream",
     "text": [
      "Model Report:\n",
      "             precision    recall  f1-score   support\n",
      "\n",
      "          0       0.64      0.74      0.69       109\n",
      "          1       0.46      0.35      0.40        69\n",
      "\n",
      "avg / total       0.57      0.59      0.58       178\n",
      "\n",
      "Accuracy Report:\n",
      "58.9887640449\n",
      "-----\n",
      "\n"
     ]
    }
   ],
   "source": [
    "param_test2b = {\n",
    " 'min_child_weight':[6,8,10,12]\n",
    "}\n",
    "gsearch2b = GridSearchCV(estimator = xgb.XGBClassifier(learning_rate=0.1, n_estimators=140, max_depth=5,\n",
    "                                                       gamma=0, subsample=0.8, colsample_bytree=0.8,\n",
    "                                                       objective= 'binary:logistic', nthread=4, scale_pos_weight=1,seed=27), \n",
    "                         param_grid=param_test2b, scoring='roc_auc', iid=False, cv=5)\n",
    "\n",
    "train_model5 = gsearch2b.fit(X_train, y_train.values.ravel())\n",
    "pred5 = train_model5.predict(X_test)\n",
    "\n",
    "metrics_report(y_test, pred5)"
   ]
  },
  {
   "cell_type": "markdown",
   "metadata": {},
   "source": [
    "### Applying SMOTE to dataset. \n",
    "As we have seen during our data exploration, the dataset is severely imbalanced.\n",
    "\n",
    "Reference: [Becker](https://www.google.co.jp/search?client=ubuntu&channel=fs&q=ROC+auc+curve+in+python&ie=utf-8&oe=utf-8&gfe_rd=cr&dcr=0&ei=EE1UWuPXNcyQ8QfT1YbAAw)"
   ]
  },
  {
   "cell_type": "code",
   "execution_count": 100,
   "metadata": {
    "collapsed": true
   },
   "outputs": [],
   "source": [
    "from collections import Counter\n",
    "def plot_pie(y):\n",
    "    target_stats = Counter(y)\n",
    "    labels = list(target_stats.keys())\n",
    "    sizes = list(target_stats.values())\n",
    "    explode = tuple([0.1] * len(target_stats))\n",
    "\n",
    "    fig, ax = plt.subplots()\n",
    "    ax.pie(sizes, explode=explode, labels=labels, shadow=True,\n",
    "           autopct='%1.1f%%')\n",
    "    ax.axis('equal')"
   ]
  },
  {
   "cell_type": "code",
   "execution_count": 103,
   "metadata": {},
   "outputs": [
    {
     "data": {
      "image/png": "[encoded data removed]",
      "text/plain": [
       "<matplotlib.figure.Figure at 0x7fb22cc2b710>"
      ]
     },
     "metadata": {},
     "output_type": "display_data"
    }
   ],
   "source": [
    "plot_pie(y_train.values.ravel())"
   ]
  },
  {
   "cell_type": "code",
   "execution_count": 109,
   "metadata": {},
   "outputs": [
    {
     "name": "stderr",
     "output_type": "stream",
     "text": [
      "/home/jerelyn/anaconda3/lib/python3.6/site-packages/sklearn/utils/deprecation.py:77: DeprecationWarning: Function _ratio_float is deprecated; Use a float for 'ratio' is deprecated from version 0.2. The support will be removed in 0.4. Use a dict, str, or a callable instead.\n",
      "  warnings.warn(msg, category=DeprecationWarning)\n"
     ]
    }
   ],
   "source": [
    "sm = SMOTE(random_state=12, ratio=0.8)\n",
    "X_train_res, y_train_res = sm.fit_sample(X_train, y_train.values.ravel())"
   ]
  },
  {
   "cell_type": "markdown",
   "metadata": {},
   "source": [
    "After SMOTE, we should see equal class distribution from synthetic samples generation."
   ]
  },
  {
   "cell_type": "code",
   "execution_count": 110,
   "metadata": {},
   "outputs": [
    {
     "data": {
      "image/png": "[encoded data removed]",
      "text/plain": [
       "<matplotlib.figure.Figure at 0x7fb22cb1ef60>"
      ]
     },
     "metadata": {},
     "output_type": "display_data"
    }
   ],
   "source": [
    "plot_pie(y_train_res)"
   ]
  },
  {
   "cell_type": "markdown",
   "metadata": {},
   "source": [
    "Let's try again"
   ]
  },
  {
   "cell_type": "code",
   "execution_count": 111,
   "metadata": {},
   "outputs": [
    {
     "name": "stdout",
     "output_type": "stream",
     "text": [
      "Best parameters set found on development set: {'n_estimators': 10}\n",
      "Grid scores on development set:\n",
      "0.655 (+/-0.117) for {'n_estimators': 10}\n",
      "0.612 (+/-0.094) for {'n_estimators': 20}\n",
      "0.627 (+/-0.099) for {'n_estimators': 50}\n",
      "0.618 (+/-0.090) for {'n_estimators': 100}\n",
      "Detailed classification report:\n",
      "\n",
      "The model is trained on the full development set.\n",
      "The scores are computed on the full evaluation set.\n",
      "\n",
      "Model Report:\n",
      "             precision    recall  f1-score   support\n",
      "\n",
      "          0       0.61      0.64      0.62       109\n",
      "          1       0.38      0.35      0.36        69\n",
      "\n",
      "avg / total       0.52      0.53      0.52       178\n",
      "\n",
      "Accuracy Report:\n",
      "52.808988764\n",
      "-----\n",
      "\n",
      "CPU times: user 1.38 s, sys: 7.64 ms, total: 1.39 s\n",
      "Wall time: 1.38 s\n"
     ]
    }
   ],
   "source": [
    "%%time\n",
    "tuning_params = [{'n_estimators': [10, 20, 50, 100]}]\n",
    "est, y_true, y_pred = RF(X_train_res, y_train_res, X_test, y_test.values.ravel(), tuning_params)"
   ]
  },
  {
   "cell_type": "code",
   "execution_count": 119,
   "metadata": {},
   "outputs": [
    {
     "name": "stdout",
     "output_type": "stream",
     "text": [
      "Model Report:\n",
      "             precision    recall  f1-score   support\n",
      "\n",
      "          0       0.64      0.67      0.65       109\n",
      "          1       0.44      0.41      0.42        69\n",
      "\n",
      "avg / total       0.56      0.57      0.56       178\n",
      "\n",
      "Accuracy Report:\n",
      "56.7415730337\n",
      "-----\n",
      "\n"
     ]
    }
   ],
   "source": [
    "param_test2b = {\n",
    " 'min_child_weight':[6,8,10,12]\n",
    "}\n",
    "gsearch2b = GridSearchCV(estimator = xgb.XGBClassifier(learning_rate=0.1, n_estimators=140, max_depth=5,\n",
    "                                                       gamma=0, subsample=0.8, colsample_bytree=0.8,\n",
    "                                                       objective='binary:logistic', nthread=4, scale_pos_weight=1, \n",
    "                                                       seed=27), \n",
    "                         param_grid=param_test2b, scoring='roc_auc', iid=False, cv=5)\n",
    "\n",
    "train_model5 = gsearch2b.fit(X_train_res, y_train_res)\n",
    "pred5 = train_model5.predict(X_test)\n",
    "\n",
    "metrics_report(y_test, pred5)"
   ]
  },
  {
   "cell_type": "markdown",
   "metadata": {},
   "source": [
    "Let's try to reduce features by using the RF's built-in feature importances"
   ]
  },
  {
   "cell_type": "code",
   "execution_count": 130,
   "metadata": {},
   "outputs": [],
   "source": [
    "top_features = []\n",
    "for i in feature_ranking[:10]:\n",
    "    top_features.append(i)"
   ]
  },
  {
   "cell_type": "markdown",
   "metadata": {},
   "source": [
    "Attempting feature reduction"
   ]
  },
  {
   "cell_type": "code",
   "execution_count": 131,
   "metadata": {},
   "outputs": [],
   "source": [
    "X, y = get_inputs(data_df_csf, top_features, bin_label)\n",
    "X_train, X_test,y_train, y_test = train_test_split(X, y, test_size=TEST_SIZE, random_state=RAND_STATE)"
   ]
  },
  {
   "cell_type": "code",
   "execution_count": 132,
   "metadata": {},
   "outputs": [
    {
     "name": "stdout",
     "output_type": "stream",
     "text": [
      "Best parameters set found on development set: {'n_estimators': 50}\n",
      "Grid scores on development set:\n",
      "0.561 (+/-0.063) for {'n_estimators': 10}\n",
      "0.564 (+/-0.139) for {'n_estimators': 20}\n",
      "0.566 (+/-0.095) for {'n_estimators': 50}\n",
      "0.561 (+/-0.082) for {'n_estimators': 100}\n",
      "Detailed classification report:\n",
      "\n",
      "The model is trained on the full development set.\n",
      "The scores are computed on the full evaluation set.\n",
      "\n",
      "Model Report:\n",
      "             precision    recall  f1-score   support\n",
      "\n",
      "          0       0.59      0.70      0.64       109\n",
      "          1       0.34      0.25      0.29        69\n",
      "\n",
      "avg / total       0.50      0.52      0.50       178\n",
      "\n",
      "Accuracy Report:\n",
      "52.2471910112\n",
      "-----\n",
      "\n",
      "CPU times: user 1.37 s, sys: 7.84 ms, total: 1.38 s\n",
      "Wall time: 1.38 s\n"
     ]
    }
   ],
   "source": [
    "%%time\n",
    "tuning_params = [{'n_estimators': [10, 20, 50, 100]}]\n",
    "est, y_true, y_pred = RF(X_train, y_train.values.ravel(), X_test, y_test.values.ravel(), tuning_params)"
   ]
  },
  {
   "cell_type": "markdown",
   "metadata": {},
   "source": [
    "## What was done\n",
    "- Multi-class prediction\n",
    "\n",
    "## Preliminary Findings\n",
    "\n",
    "- Despite the innate capability of tree-based algorithms to somehow compensate for unbalanced datasets, resampling has to be done in this specific application because of the severely unbalanced dataset. If we don't, then training would be problematic as there will be some classes that may be severely under-represented / zero.\n",
    "\n",
    "## What else can be done\n",
    "\n",
    "- Try out binary classification\n",
    "- Hyperparameter tuning in XGBoost\n",
    "- ROC AUC Curves\n",
    "- Confusion Matrix\n",
    "- Feature selection using the results of the algorithms' features significance\n",
    "- Compare XGBoost's performance"
   ]
  },
  {
   "cell_type": "code",
   "execution_count": null,
   "metadata": {
    "collapsed": true
   },
   "outputs": [],
   "source": []
  },
  {
   "cell_type": "code",
   "execution_count": null,
   "metadata": {
    "collapsed": true
   },
   "outputs": [],
   "source": []
  }
 ],
 "metadata": {
  "kernelspec": {
   "display_name": "Python 3",
   "language": "python",
   "name": "python3"
  },
  "language_info": {
   "codemirror_mode": {
    "name": "ipython",
    "version": 3
   },
   "file_extension": ".py",
   "mimetype": "text/x-python",
   "name": "python",
   "nbconvert_exporter": "python",
   "pygments_lexer": "ipython3",
   "version": "3.6.3"
  }
 },
 "nbformat": 4,
 "nbformat_minor": 2
}
