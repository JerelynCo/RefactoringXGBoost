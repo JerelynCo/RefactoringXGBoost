{
 "cells": [
  {
   "cell_type": "markdown",
   "metadata": {},
   "source": [
    "# Multi-class Refactoring Recommendation with SMOTE and Tree-based Algorithms\n",
    "by Jerelyn Co (Jan 2018)\n",
    "\n",
    "Main Reference: Kumar, L., & Sureka, A. (2017). Application of LSSVM and SMOTE on Seven Open Source Projects for Predicting Refactoring at Class Level. Asia-Pacific Software Engineering Conference (APSEC 2017), 90–99. https://doi.org/10.1109/APSEC.2017.15"
   ]
  },
  {
   "cell_type": "code",
   "execution_count": 30,
   "metadata": {},
   "outputs": [
    {
     "name": "stdout",
     "output_type": "stream",
     "text": [
      "Populating the interactive namespace from numpy and matplotlib\n"
     ]
    }
   ],
   "source": [
    "import os\n",
    "\n",
    "import numpy as np\n",
    "import pandas as pd\n",
    "\n",
    "import xgboost as xgb\n",
    "\n",
    "import seaborn as sns\n",
    "import matplotlib.pyplot as plt\n",
    "\n",
    "from imblearn.over_sampling import SMOTE\n",
    "\n",
    "from sklearn.model_selection import KFold,train_test_split\n",
    "from sklearn import preprocessing\n",
    "from sklearn.model_selection import GridSearchCV\n",
    "\n",
    "from sklearn.ensemble import RandomForestClassifier\n",
    "\n",
    "from sklearn.metrics import recall_score, classification_report, confusion_matrix, accuracy_score\n",
    "from sklearn.metrics import precision_recall_curve\n",
    "\n",
    "\n",
    "%pylab inline\n",
    "from pylab import rcParams\n",
    "rcParams['figure.figsize'] = 10,5\n",
    "\n",
    "sns.set(style=\"darkgrid\")"
   ]
  },
  {
   "cell_type": "markdown",
   "metadata": {},
   "source": [
    "### Classification Utils"
   ]
  },
  {
   "cell_type": "code",
   "execution_count": 47,
   "metadata": {},
   "outputs": [],
   "source": [
    "TEST_SIZE = 0.3\n",
    "RAND_STATE = 12\n",
    "CV = 10"
   ]
  },
  {
   "cell_type": "code",
   "execution_count": 48,
   "metadata": {},
   "outputs": [],
   "source": [
    "def get_inputs(data, features, label, binary_csf=True):\n",
    "    if binary_csf:\n",
    "        raw_X, y = data[features], data[label]\n",
    "    else:\n",
    "        # Label encoding for refactoring types. Transforming categorical labels to 0 to n_classes - 1.\n",
    "        le = preprocessing.LabelEncoder()\n",
    "        le.fit(data[label])\n",
    "        data[label] = le.transform(data[label])\n",
    "        raw_X, y = data[features], data[label]\n",
    "    scaler = preprocessing.MinMaxScaler(feature_range=(0, 1))\n",
    "    X = scaler.fit_transform(raw_X)\n",
    "    return X, y"
   ]
  },
  {
   "cell_type": "code",
   "execution_count": 49,
   "metadata": {},
   "outputs": [],
   "source": [
    "def metrics_report(true, pred):\n",
    "    print('Model Report:')\n",
    "    print(classification_report(true, pred))\n",
    "\n",
    "    print(\"Accuracy Report:\")\n",
    "    print(accuracy_score(true, pred) * 100)\n",
    "    print(\"-----\\n\")"
   ]
  },
  {
   "cell_type": "code",
   "execution_count": 50,
   "metadata": {},
   "outputs": [],
   "source": [
    "def feature_importances(est, features):\n",
    "    importances = est.feature_importances_\n",
    "    std = np.std([tree.feature_importances_ for tree in est.estimators_],\n",
    "                 axis=0)\n",
    "    indices = np.argsort(importances)[::-1]\n",
    "\n",
    "    # Print the feature ranking\n",
    "    print(\"Feature ranking:\")\n",
    "\n",
    "    for f in range(len(features)):\n",
    "        print(\"%d. feature %s (%f)\" % (f + 1, features[indices[f]], importances[indices[f]]))\n",
    "\n",
    "    # Plot the feature importances of the forest\n",
    "    plt.figure()\n",
    "    plt.title(\"Feature importances\")\n",
    "    plt.bar(range(len(features)), importances[indices],\n",
    "           color=\"r\", yerr=std[indices], align=\"center\")\n",
    "    plt.xticks(range(len(features)), [features[i] for i in indices])\n",
    "    plt.xlim([-1, len(features)])\n",
    "    plt.show()\n",
    "    \n",
    "    return [features[i] for i in indices]"
   ]
  },
  {
   "cell_type": "code",
   "execution_count": 61,
   "metadata": {},
   "outputs": [],
   "source": [
    "def RF(X_train, y_train, X_test, y_test, tuning_params):\n",
    "    clf_rf = GridSearchCV(RandomForestClassifier(n_jobs=-1), tuning_params, cv=CV)\n",
    "    clf_rf.fit(X_train, y_train)\n",
    "\n",
    "    print(\"Best parameters set found on development set: {}\".format(clf_rf.best_params_))\n",
    "    print(\"Grid scores on development set:\")\n",
    "    means = clf_rf.cv_results_['mean_test_score']\n",
    "    stds = clf_rf.cv_results_['std_test_score']\n",
    "    for mean, std, params in zip(means, stds, clf_rf.cv_results_['params']):\n",
    "        print(\"%0.3f (+/-%0.03f) for %r\"\n",
    "              % (mean, std * 2, params))\n",
    "\n",
    "    print(\"Detailed classification report:\\n\")\n",
    "    print(\"The model is trained on the full development set.\")\n",
    "    print(\"The scores are computed on the full evaluation set.\\n\")\n",
    "    y_true, y_pred = y_test, clf_rf.predict(X_test)\n",
    "    metrics_report(y_test, y_pred)\n",
    "    \n",
    "    return clf_rf.best_estimator_, y_true, y_pred"
   ]
  },
  {
   "cell_type": "code",
   "execution_count": 52,
   "metadata": {},
   "outputs": [],
   "source": [
    "def prc(est, X_test, y_test):\n",
    "    precision, recall, _ = precision_recall_curve(y_test.values, est.predict_proba(X_test)[:,1])\n",
    "    plt.step(recall, precision, color='b', alpha=0.2,\n",
    "             where='post')\n",
    "    plt.fill_between(recall, precision, step='post', alpha=0.2,\n",
    "                     color='b')\n",
    "\n",
    "    plt.xlabel('Recall')\n",
    "    plt.ylabel('Precision')\n",
    "    plt.ylim([0.0, 1.05])\n",
    "    plt.xlim([0.0, 1.0])\n",
    "    plt.title('2-class Precision-Recall curve')"
   ]
  },
  {
   "cell_type": "markdown",
   "metadata": {},
   "source": [
    "### Load Datasets"
   ]
  },
  {
   "cell_type": "code",
   "execution_count": 53,
   "metadata": {},
   "outputs": [],
   "source": [
    "ant_dir = \"data/raw/badsmells/data/apache-ant/apache-ant/\"\n",
    "xerces_dir = \"data/raw/badsmells/data/apache-ant/xerces-j/\"\n",
    "\n",
    "ddata_dir = \"data/transformed/\""
   ]
  },
  {
   "cell_type": "code",
   "execution_count": 54,
   "metadata": {},
   "outputs": [
    {
     "data": {
      "text/html": [
       "<div>\n",
       "<style scoped>\n",
       "    .dataframe tbody tr th:only-of-type {\n",
       "        vertical-align: middle;\n",
       "    }\n",
       "\n",
       "    .dataframe tbody tr th {\n",
       "        vertical-align: top;\n",
       "    }\n",
       "\n",
       "    .dataframe thead th {\n",
       "        text-align: right;\n",
       "    }\n",
       "</style>\n",
       "<table border=\"1\" class=\"dataframe\">\n",
       "  <thead>\n",
       "    <tr style=\"text-align: right;\">\n",
       "      <th></th>\n",
       "      <th>Unnamed: 0</th>\n",
       "      <th>Refactoring</th>\n",
       "      <th>Version_x</th>\n",
       "      <th>Class</th>\n",
       "      <th>NC</th>\n",
       "      <th>AG</th>\n",
       "      <th>NDC</th>\n",
       "      <th>ADD</th>\n",
       "      <th>DEL</th>\n",
       "      <th>CHURN</th>\n",
       "      <th>...</th>\n",
       "      <th>NOC</th>\n",
       "      <th>RFC</th>\n",
       "      <th>CBO</th>\n",
       "      <th>LCOM</th>\n",
       "      <th>NOM</th>\n",
       "      <th>NOA</th>\n",
       "      <th>NOO</th>\n",
       "      <th>CCBC</th>\n",
       "      <th>C3</th>\n",
       "      <th>w_ref</th>\n",
       "    </tr>\n",
       "  </thead>\n",
       "  <tbody>\n",
       "    <tr>\n",
       "      <th>0</th>\n",
       "      <td>0</td>\n",
       "      <td>not</td>\n",
       "      <td>1.5</td>\n",
       "      <td>main.org.apache.tools.ant.Diagnostics</td>\n",
       "      <td>1</td>\n",
       "      <td>18638363.0</td>\n",
       "      <td>3</td>\n",
       "      <td>20.0</td>\n",
       "      <td>4.0</td>\n",
       "      <td>204.0</td>\n",
       "      <td>...</td>\n",
       "      <td>0</td>\n",
       "      <td>63</td>\n",
       "      <td>12</td>\n",
       "      <td>136</td>\n",
       "      <td>17</td>\n",
       "      <td>0</td>\n",
       "      <td>0</td>\n",
       "      <td>7.497003</td>\n",
       "      <td>0.148153</td>\n",
       "      <td>0</td>\n",
       "    </tr>\n",
       "    <tr>\n",
       "      <th>1</th>\n",
       "      <td>1</td>\n",
       "      <td>not</td>\n",
       "      <td>1.5</td>\n",
       "      <td>main.org.apache.tools.ant.Diagnostics</td>\n",
       "      <td>1</td>\n",
       "      <td>18638363.0</td>\n",
       "      <td>3</td>\n",
       "      <td>20.0</td>\n",
       "      <td>4.0</td>\n",
       "      <td>204.0</td>\n",
       "      <td>...</td>\n",
       "      <td>0</td>\n",
       "      <td>122</td>\n",
       "      <td>21</td>\n",
       "      <td>459</td>\n",
       "      <td>31</td>\n",
       "      <td>0</td>\n",
       "      <td>0</td>\n",
       "      <td>8.156498</td>\n",
       "      <td>0.150041</td>\n",
       "      <td>0</td>\n",
       "    </tr>\n",
       "    <tr>\n",
       "      <th>2</th>\n",
       "      <td>2</td>\n",
       "      <td>not</td>\n",
       "      <td>1.5.4</td>\n",
       "      <td>main.org.apache.tools.ant.Diagnostics</td>\n",
       "      <td>1</td>\n",
       "      <td>18638363.0</td>\n",
       "      <td>3</td>\n",
       "      <td>20.0</td>\n",
       "      <td>4.0</td>\n",
       "      <td>204.0</td>\n",
       "      <td>...</td>\n",
       "      <td>0</td>\n",
       "      <td>63</td>\n",
       "      <td>12</td>\n",
       "      <td>136</td>\n",
       "      <td>17</td>\n",
       "      <td>0</td>\n",
       "      <td>0</td>\n",
       "      <td>7.497003</td>\n",
       "      <td>0.148153</td>\n",
       "      <td>0</td>\n",
       "    </tr>\n",
       "    <tr>\n",
       "      <th>3</th>\n",
       "      <td>3</td>\n",
       "      <td>not</td>\n",
       "      <td>1.5.4</td>\n",
       "      <td>main.org.apache.tools.ant.Diagnostics</td>\n",
       "      <td>1</td>\n",
       "      <td>18638363.0</td>\n",
       "      <td>3</td>\n",
       "      <td>20.0</td>\n",
       "      <td>4.0</td>\n",
       "      <td>204.0</td>\n",
       "      <td>...</td>\n",
       "      <td>0</td>\n",
       "      <td>122</td>\n",
       "      <td>21</td>\n",
       "      <td>459</td>\n",
       "      <td>31</td>\n",
       "      <td>0</td>\n",
       "      <td>0</td>\n",
       "      <td>8.156498</td>\n",
       "      <td>0.150041</td>\n",
       "      <td>0</td>\n",
       "    </tr>\n",
       "    <tr>\n",
       "      <th>4</th>\n",
       "      <td>4</td>\n",
       "      <td>not</td>\n",
       "      <td>1.5</td>\n",
       "      <td>main.org.apache.tools.ant.filters.LineContains</td>\n",
       "      <td>1</td>\n",
       "      <td>30192410.0</td>\n",
       "      <td>3</td>\n",
       "      <td>19.0</td>\n",
       "      <td>11.0</td>\n",
       "      <td>1911.0</td>\n",
       "      <td>...</td>\n",
       "      <td>0</td>\n",
       "      <td>21</td>\n",
       "      <td>4</td>\n",
       "      <td>8</td>\n",
       "      <td>8</td>\n",
       "      <td>8</td>\n",
       "      <td>0</td>\n",
       "      <td>7.533635</td>\n",
       "      <td>0.371463</td>\n",
       "      <td>0</td>\n",
       "    </tr>\n",
       "  </tbody>\n",
       "</table>\n",
       "<p>5 rows × 25 columns</p>\n",
       "</div>"
      ],
      "text/plain": [
       "   Unnamed: 0 Refactoring Version_x  \\\n",
       "0           0         not       1.5   \n",
       "1           1         not       1.5   \n",
       "2           2         not     1.5.4   \n",
       "3           3         not     1.5.4   \n",
       "4           4         not       1.5   \n",
       "\n",
       "                                            Class  NC          AG  NDC   ADD  \\\n",
       "0           main.org.apache.tools.ant.Diagnostics   1  18638363.0    3  20.0   \n",
       "1           main.org.apache.tools.ant.Diagnostics   1  18638363.0    3  20.0   \n",
       "2           main.org.apache.tools.ant.Diagnostics   1  18638363.0    3  20.0   \n",
       "3           main.org.apache.tools.ant.Diagnostics   1  18638363.0    3  20.0   \n",
       "4  main.org.apache.tools.ant.filters.LineContains   1  30192410.0    3  19.0   \n",
       "\n",
       "    DEL   CHURN  ...    NOC  RFC  CBO  LCOM  NOM  NOA  NOO      CCBC  \\\n",
       "0   4.0   204.0  ...      0   63   12   136   17    0    0  7.497003   \n",
       "1   4.0   204.0  ...      0  122   21   459   31    0    0  8.156498   \n",
       "2   4.0   204.0  ...      0   63   12   136   17    0    0  7.497003   \n",
       "3   4.0   204.0  ...      0  122   21   459   31    0    0  8.156498   \n",
       "4  11.0  1911.0  ...      0   21    4     8    8    8    0  7.533635   \n",
       "\n",
       "         C3  w_ref  \n",
       "0  0.148153      0  \n",
       "1  0.150041      0  \n",
       "2  0.148153      0  \n",
       "3  0.150041      0  \n",
       "4  0.371463      0  \n",
       "\n",
       "[5 rows x 25 columns]"
      ]
     },
     "execution_count": 54,
     "metadata": {},
     "output_type": "execute_result"
    }
   ],
   "source": [
    "data_df_csf = pd.read_csv(ddata_dir+\"proc_prod.csv\")\n",
    "data_df_csf.head()"
   ]
  },
  {
   "cell_type": "code",
   "execution_count": 55,
   "metadata": {},
   "outputs": [],
   "source": [
    "info_cols = ['Version_x',  'Version_y', 'Class', 'nsplit']\n",
    "bin_label = ['w_ref']\n",
    "multi_label = [\"Refactoring\"]\n",
    "proc_cols = ['NC', 'AG', 'NDC', 'ADD', 'DEL', 'CHURN']\n",
    "prod_cols = ['LOC', 'WMC', 'DIT', 'NOC', 'RFC','CBO', 'LCOM', 'NOM', 'NOA', 'NOO', 'CCBC', 'C3']"
   ]
  },
  {
   "cell_type": "code",
   "execution_count": 56,
   "metadata": {},
   "outputs": [],
   "source": [
    "data_df_csf.dropna(inplace=True)"
   ]
  },
  {
   "cell_type": "markdown",
   "metadata": {},
   "source": [
    "## Binary Classification"
   ]
  },
  {
   "cell_type": "code",
   "execution_count": 57,
   "metadata": {},
   "outputs": [
    {
     "data": {
      "image/png": "[encoded data removed]",
      "text/plain": [
       "<matplotlib.figure.Figure at 0x7fa32dd5e1d0>"
      ]
     },
     "metadata": {},
     "output_type": "display_data"
    }
   ],
   "source": [
    "ax = sns.countplot(x=\"w_ref\", data=data_df_csf)"
   ]
  },
  {
   "cell_type": "code",
   "execution_count": 58,
   "metadata": {
    "scrolled": true
   },
   "outputs": [],
   "source": [
    "features = proc_cols+prod_cols\n",
    "X, y = get_inputs(data_df_csf, features, bin_label)\n",
    "X_train, X_test, y_train, y_test = train_test_split(X, y, test_size=TEST_SIZE, random_state=RAND_STATE)"
   ]
  },
  {
   "cell_type": "code",
   "execution_count": 107,
   "metadata": {},
   "outputs": [
    {
     "data": {
      "image/png": "[encoded data removed]",
      "text/plain": [
       "<matplotlib.figure.Figure at 0x7fa32abf71d0>"
      ]
     },
     "metadata": {},
     "output_type": "display_data"
    }
   ],
   "source": [
    "rcParams['figure.figsize'] = 10,10\n",
    "plt.matshow(data_df_csf[features].corr())\n",
    "plt.xticks(range(len(features)), features, rotation=45)\n",
    "plt.yticks(range(len(features)), features)\n",
    "plt.colorbar()\n",
    "plt.show()\n"
   ]
  },
  {
   "cell_type": "markdown",
   "metadata": {},
   "source": [
    "### Using Random Forest"
   ]
  },
  {
   "cell_type": "code",
   "execution_count": 62,
   "metadata": {
    "scrolled": true
   },
   "outputs": [
    {
     "name": "stdout",
     "output_type": "stream",
     "text": [
      "Best parameters set found on development set: {'max_features': 0.8, 'n_estimators': 100}\n",
      "Grid scores on development set:\n",
      "0.540 (+/-0.122) for {'max_features': 0.5, 'n_estimators': 50}\n",
      "0.533 (+/-0.123) for {'max_features': 0.5, 'n_estimators': 100}\n",
      "0.552 (+/-0.082) for {'max_features': 0.5, 'n_estimators': 150}\n",
      "0.542 (+/-0.066) for {'max_features': 0.5, 'n_estimators': 300}\n",
      "0.535 (+/-0.095) for {'max_features': 0.8, 'n_estimators': 50}\n",
      "0.561 (+/-0.102) for {'max_features': 0.8, 'n_estimators': 100}\n",
      "0.552 (+/-0.096) for {'max_features': 0.8, 'n_estimators': 150}\n",
      "0.557 (+/-0.086) for {'max_features': 0.8, 'n_estimators': 300}\n",
      "Detailed classification report:\n",
      "\n",
      "The model is trained on the full development set.\n",
      "The scores are computed on the full evaluation set.\n",
      "\n",
      "Model Report:\n",
      "             precision    recall  f1-score   support\n",
      "\n",
      "          0       0.61      0.66      0.63       109\n",
      "          1       0.38      0.33      0.36        69\n",
      "\n",
      "avg / total       0.52      0.53      0.53       178\n",
      "\n",
      "Accuracy Report:\n",
      "53.3707865169\n",
      "-----\n",
      "\n",
      "CPU times: user 34.8 s, sys: 1.66 s, total: 36.5 s\n",
      "Wall time: 42.5 s\n"
     ]
    }
   ],
   "source": [
    "%%time\n",
    "tuning_params = [{'n_estimators': [50, 100, 150, 300], 'max_features': [0.5,0.8]}]\n",
    "est, y_true, y_pred = RF(X_train, y_train.values.ravel(), X_test, y_test.values.ravel(), tuning_params)"
   ]
  },
  {
   "cell_type": "markdown",
   "metadata": {},
   "source": [
    "Use of PRC \n",
    "\n",
    "Saito, T., & Rehmsmeier, M. (2015). The precision-recall plot is more informative than the ROC plot when evaluating binary classifiers on imbalanced datasets. PLoS ONE, 10(3), 1–21. https://doi.org/10.1371/journal.pone.011843\n",
    "\n",
    "https://classeval.wordpress.com/introduction/introduction-to-the-precision-recall-plot/"
   ]
  },
  {
   "cell_type": "code",
   "execution_count": 42,
   "metadata": {},
   "outputs": [
    {
     "data": {
      "image/png": "[encoded data removed]",
      "text/plain": [
       "<matplotlib.figure.Figure at 0x7fa3364ac908>"
      ]
     },
     "metadata": {},
     "output_type": "display_data"
    }
   ],
   "source": [
    "prc(est, X_test, y_test )"
   ]
  },
  {
   "cell_type": "code",
   "execution_count": 43,
   "metadata": {},
   "outputs": [
    {
     "name": "stdout",
     "output_type": "stream",
     "text": [
      "Feature ranking:\n",
      "1. feature C3 (0.109163)\n",
      "2. feature LOC (0.092999)\n",
      "3. feature CCBC (0.088087)\n",
      "4. feature DEL (0.084278)\n",
      "5. feature AG (0.080631)\n",
      "6. feature CHURN (0.079618)\n",
      "7. feature ADD (0.078279)\n",
      "8. feature WMC (0.077204)\n",
      "9. feature LCOM (0.060104)\n",
      "10. feature RFC (0.056841)\n",
      "11. feature NDC (0.052724)\n",
      "12. feature NOM (0.050602)\n",
      "13. feature CBO (0.044013)\n",
      "14. feature NOC (0.026559)\n",
      "15. feature DIT (0.009028)\n",
      "16. feature NOA (0.005811)\n",
      "17. feature NOO (0.004058)\n",
      "18. feature NC (0.000000)\n"
     ]
    },
    {
     "data": {
      "image/png": "[encoded data removed]",
      "text/plain": [
       "<matplotlib.figure.Figure at 0x7fa32d87f898>"
      ]
     },
     "metadata": {},
     "output_type": "display_data"
    }
   ],
   "source": [
    "feature_ranking = feature_importances(est, features)"
   ]
  },
  {
   "cell_type": "markdown",
   "metadata": {},
   "source": [
    "### Using XGBoost\n",
    "\n",
    "[Kaggle Introduction](https://www.kaggle.com/babatee/intro-xgboost-classification)\n",
    "\n",
    "http://xgboost.readthedocs.io/en/latest//parameter.html\n",
    "\n",
    "http://xgboost.readthedocs.io/en/latest//how_to/param_tuning.html"
   ]
  },
  {
   "cell_type": "code",
   "execution_count": 63,
   "metadata": {},
   "outputs": [
    {
     "name": "stdout",
     "output_type": "stream",
     "text": [
      "Model Report:\n",
      "             precision    recall  f1-score   support\n",
      "\n",
      "          0       0.61      0.74      0.67       109\n",
      "          1       0.39      0.26      0.31        69\n",
      "\n",
      "avg / total       0.53      0.56      0.53       178\n",
      "\n",
      "Accuracy Report:\n",
      "55.6179775281\n",
      "-----\n",
      "\n",
      "CPU times: user 36 ms, sys: 0 ns, total: 36 ms\n",
      "Wall time: 36.2 ms\n"
     ]
    }
   ],
   "source": [
    "%%time\n",
    "model1 = xgb.XGBClassifier()\n",
    "train_model1 = model1.fit(X_train, y_train.values.ravel())\n",
    "\n",
    "pred1 = train_model1.predict(X_test)\n",
    "\n",
    "metrics_report(y_test, pred1)"
   ]
  },
  {
   "cell_type": "code",
   "execution_count": 64,
   "metadata": {
    "scrolled": true
   },
   "outputs": [
    {
     "name": "stdout",
     "output_type": "stream",
     "text": [
      "Model Report:\n",
      "             precision    recall  f1-score   support\n",
      "\n",
      "          0       0.64      0.74      0.69       109\n",
      "          1       0.46      0.35      0.40        69\n",
      "\n",
      "avg / total       0.57      0.59      0.58       178\n",
      "\n",
      "Accuracy Report:\n",
      "58.9887640449\n",
      "-----\n",
      "\n"
     ]
    }
   ],
   "source": [
    "param_test2b = {\n",
    " 'min_child_weight':[6,8,10,12]\n",
    "}\n",
    "gsearch2b = GridSearchCV(estimator = xgb.XGBClassifier(learning_rate=0.1, n_estimators=140, max_depth=5,\n",
    "                                                       gamma=0, subsample=0.8, colsample_bytree=0.8,\n",
    "                                                       objective= 'binary:logistic', nthread=4, scale_pos_weight=1,seed=27), \n",
    "                         param_grid=param_test2b, scoring='roc_auc', iid=False, cv=5)\n",
    "\n",
    "train_model5 = gsearch2b.fit(X_train, y_train.values.ravel())\n",
    "pred5 = train_model5.predict(X_test)\n",
    "\n",
    "metrics_report(y_test, pred5)"
   ]
  },
  {
   "cell_type": "markdown",
   "metadata": {},
   "source": [
    "### Applying SMOTE to dataset. \n",
    "As we have seen during our data exploration, the dataset is severely imbalanced.\n",
    "\n",
    "Reference: [Becker](https://www.google.co.jp/search?client=ubuntu&channel=fs&q=ROC+auc+curve+in+python&ie=utf-8&oe=utf-8&gfe_rd=cr&dcr=0&ei=EE1UWuPXNcyQ8QfT1YbAAw)"
   ]
  },
  {
   "cell_type": "code",
   "execution_count": 65,
   "metadata": {},
   "outputs": [],
   "source": [
    "from collections import Counter\n",
    "def plot_pie(y):\n",
    "    target_stats = Counter(y)\n",
    "    labels = list(target_stats.keys())\n",
    "    sizes = list(target_stats.values())\n",
    "    explode = tuple([0.1] * len(target_stats))\n",
    "\n",
    "    fig, ax = plt.subplots()\n",
    "    ax.pie(sizes, explode=explode, labels=labels, shadow=True,\n",
    "           autopct='%1.1f%%')\n",
    "    ax.axis('equal')"
   ]
  },
  {
   "cell_type": "code",
   "execution_count": 66,
   "metadata": {},
   "outputs": [
    {
     "data": {
      "image/png": "[encoded data removed]",
      "text/plain": [
       "<matplotlib.figure.Figure at 0x7fa32db06b70>"
      ]
     },
     "metadata": {},
     "output_type": "display_data"
    }
   ],
   "source": [
    "plot_pie(y_train.values.ravel())"
   ]
  },
  {
   "cell_type": "code",
   "execution_count": 70,
   "metadata": {},
   "outputs": [
    {
     "name": "stderr",
     "output_type": "stream",
     "text": [
      "/home/jerelyn/miniconda3/lib/python3.6/site-packages/sklearn/utils/deprecation.py:77: DeprecationWarning: Function _ratio_float is deprecated; Use a float for 'ratio' is deprecated from version 0.2. The support will be removed in 0.4. Use a dict, str, or a callable instead.\n",
      "  warnings.warn(msg, category=DeprecationWarning)\n"
     ]
    }
   ],
   "source": [
    "sm = SMOTE(random_state=12, ratio=0.8)\n",
    "X_train, y_train = sm.fit_sample(X_train, y_train.values.ravel())"
   ]
  },
  {
   "cell_type": "markdown",
   "metadata": {},
   "source": [
    "After SMOTE, we should see equal class distribution from synthetic samples generation."
   ]
  },
  {
   "cell_type": "code",
   "execution_count": 71,
   "metadata": {},
   "outputs": [
    {
     "data": {
      "image/png": "[encoded data removed]",
      "text/plain": [
       "<matplotlib.figure.Figure at 0x7fa32db159b0>"
      ]
     },
     "metadata": {},
     "output_type": "display_data"
    }
   ],
   "source": [
    "plot_pie(y_train_res)"
   ]
  },
  {
   "cell_type": "markdown",
   "metadata": {},
   "source": [
    "Let's try again"
   ]
  },
  {
   "cell_type": "code",
   "execution_count": 73,
   "metadata": {},
   "outputs": [
    {
     "name": "stdout",
     "output_type": "stream",
     "text": [
      "Best parameters set found on development set: {'max_features': 0.8, 'n_estimators': 100}\n",
      "Grid scores on development set:\n",
      "0.618 (+/-0.124) for {'max_features': 0.5, 'n_estimators': 50}\n",
      "0.620 (+/-0.125) for {'max_features': 0.5, 'n_estimators': 100}\n",
      "0.622 (+/-0.106) for {'max_features': 0.5, 'n_estimators': 150}\n",
      "0.616 (+/-0.123) for {'max_features': 0.5, 'n_estimators': 300}\n",
      "0.620 (+/-0.151) for {'max_features': 0.8, 'n_estimators': 50}\n",
      "0.625 (+/-0.139) for {'max_features': 0.8, 'n_estimators': 100}\n",
      "0.620 (+/-0.101) for {'max_features': 0.8, 'n_estimators': 150}\n",
      "0.618 (+/-0.140) for {'max_features': 0.8, 'n_estimators': 300}\n",
      "Detailed classification report:\n",
      "\n",
      "The model is trained on the full development set.\n",
      "The scores are computed on the full evaluation set.\n",
      "\n",
      "Model Report:\n",
      "             precision    recall  f1-score   support\n",
      "\n",
      "          0       0.62      0.68      0.65       109\n",
      "          1       0.40      0.33      0.36        69\n",
      "\n",
      "avg / total       0.53      0.54      0.54       178\n",
      "\n",
      "Accuracy Report:\n",
      "54.4943820225\n",
      "-----\n",
      "\n",
      "CPU times: user 38.7 s, sys: 1.71 s, total: 40.4 s\n",
      "Wall time: 43.2 s\n"
     ]
    }
   ],
   "source": [
    "%%time\n",
    "tuning_params = [{'n_estimators': [50, 100, 150, 300], 'max_features': [0.5,0.8]}]\n",
    "est, y_true, y_pred = RF(X_train, y_train.ravel(), X_test, y_test.values.ravel(), tuning_params)"
   ]
  },
  {
   "cell_type": "code",
   "execution_count": 89,
   "metadata": {},
   "outputs": [
    {
     "name": "stdout",
     "output_type": "stream",
     "text": [
      "Model Report:\n",
      "             precision    recall  f1-score   support\n",
      "\n",
      "          0       0.63      0.71      0.67       109\n",
      "          1       0.43      0.35      0.38        69\n",
      "\n",
      "avg / total       0.55      0.57      0.56       178\n",
      "\n",
      "Accuracy Report:\n",
      "56.7415730337\n",
      "-----\n",
      "\n"
     ]
    }
   ],
   "source": [
    "param_test2b = {\n",
    " 'min_child_weight':[6,8,10,12]\n",
    "}\n",
    "gsearch2b = GridSearchCV(estimator = xgb.XGBClassifier(learning_rate=0.08, n_estimators=200, max_depth=6,\n",
    "                                                       gamma=0, subsample=0.8, colsample_bytree=0.8,\n",
    "                                                       objective='binary:logistic', scale_pos_weight=0.8, \n",
    "                                                       seed=27, eval_metric='auc', max_delta_step=1, num_round=5), \n",
    "                         param_grid=param_test2b, scoring='roc_auc', iid=False, cv=CV)\n",
    "\n",
    "train_model5 = gsearch2b.fit(X_train, y_train)\n",
    "pred5 = train_model5.predict(X_test)\n",
    "\n",
    "metrics_report(y_test, pred5)"
   ]
  },
  {
   "cell_type": "markdown",
   "metadata": {},
   "source": [
    "Let's try to reduce features by using the RF's built-in feature importances"
   ]
  },
  {
   "cell_type": "code",
   "execution_count": 90,
   "metadata": {},
   "outputs": [],
   "source": [
    "top_features = []\n",
    "for i in feature_ranking[:10]:\n",
    "    top_features.append(i)"
   ]
  },
  {
   "cell_type": "markdown",
   "metadata": {},
   "source": [
    "Attempting feature reduction"
   ]
  },
  {
   "cell_type": "code",
   "execution_count": 91,
   "metadata": {},
   "outputs": [],
   "source": [
    "X, y = get_inputs(data_df_csf, top_features, bin_label)\n",
    "X_train, X_test,y_train, y_test = train_test_split(X, y, test_size=TEST_SIZE, random_state=RAND_STATE)"
   ]
  },
  {
   "cell_type": "code",
   "execution_count": 92,
   "metadata": {},
   "outputs": [
    {
     "name": "stdout",
     "output_type": "stream",
     "text": [
      "Best parameters set found on development set: {'n_estimators': 50}\n",
      "Grid scores on development set:\n",
      "0.518 (+/-0.099) for {'n_estimators': 10}\n",
      "0.540 (+/-0.092) for {'n_estimators': 20}\n",
      "0.547 (+/-0.108) for {'n_estimators': 50}\n",
      "0.542 (+/-0.108) for {'n_estimators': 100}\n",
      "Detailed classification report:\n",
      "\n",
      "The model is trained on the full development set.\n",
      "The scores are computed on the full evaluation set.\n",
      "\n",
      "Model Report:\n",
      "             precision    recall  f1-score   support\n",
      "\n",
      "          0       0.59      0.68      0.63       109\n",
      "          1       0.34      0.26      0.30        69\n",
      "\n",
      "avg / total       0.49      0.52      0.50       178\n",
      "\n",
      "Accuracy Report:\n",
      "51.6853932584\n",
      "-----\n",
      "\n",
      "CPU times: user 5.42 s, sys: 524 ms, total: 5.94 s\n",
      "Wall time: 14.5 s\n"
     ]
    }
   ],
   "source": [
    "%%time\n",
    "tuning_params = [{'n_estimators': [10, 20, 50, 100]}]\n",
    "est, y_true, y_pred = RF(X_train, y_train.values.ravel(), X_test, y_test.values.ravel(), tuning_params)"
   ]
  },
  {
   "cell_type": "code",
   "execution_count": 94,
   "metadata": {},
   "outputs": [],
   "source": [
    "from sklearn import svm, grid_search\n",
    "\n",
    "def svc_param_selection(X, y, nfolds):\n",
    "    Cs = [0.001, 0.01, 0.1, 1, 10]\n",
    "    gammas = [0.001, 0.01, 0.1, 1]\n",
    "    param_grid = {'C': Cs, 'gamma' : gammas}\n",
    "    grid_search = GridSearchCV(svm.SVC(kernel='rbf'), param_grid, cv=nfolds)\n",
    "    grid_search.fit(X, y)\n",
    "    grid_search.best_params_\n",
    "    return grid_search.best_params_, grid_search.best_estimator_"
   ]
  },
  {
   "cell_type": "code",
   "execution_count": 96,
   "metadata": {},
   "outputs": [],
   "source": [
    "params, est = svc_param_selection(X_train, y_train.values.ravel(), CV)"
   ]
  },
  {
   "cell_type": "code",
   "execution_count": 97,
   "metadata": {},
   "outputs": [
    {
     "name": "stdout",
     "output_type": "stream",
     "text": [
      "Model Report:\n",
      "             precision    recall  f1-score   support\n",
      "\n",
      "          0       0.64      1.00      0.78       109\n",
      "          1       1.00      0.10      0.18        69\n",
      "\n",
      "avg / total       0.78      0.65      0.55       178\n",
      "\n",
      "Accuracy Report:\n",
      "65.1685393258\n",
      "-----\n",
      "\n"
     ]
    }
   ],
   "source": [
    "metrics_report(y_test, est.predict(X_test))"
   ]
  },
  {
   "cell_type": "markdown",
   "metadata": {},
   "source": [
    "## What was done\n",
    "- Multi-class prediction\n",
    "\n",
    "## Preliminary Findings\n",
    "\n",
    "- Despite the innate capability of tree-based algorithms to somehow compensate for unbalanced datasets, resampling has to be done in this specific application because of the severely unbalanced dataset. If we don't, then training would be problematic as there will be some classes that may be severely under-represented / zero.\n",
    "\n",
    "## What else can be done\n",
    "\n",
    "- Try out binary classification\n",
    "- Hyperparameter tuning in XGBoost\n",
    "- ROC AUC Curves\n",
    "- Confusion Matrix\n",
    "- Feature selection using the results of the algorithms' features significance\n",
    "- Compare XGBoost's performance"
   ]
  },
  {
   "cell_type": "code",
   "execution_count": null,
   "metadata": {
    "collapsed": true
   },
   "outputs": [],
   "source": []
  },
  {
   "cell_type": "code",
   "execution_count": null,
   "metadata": {
    "collapsed": true
   },
   "outputs": [],
   "source": []
  }
 ],
 "metadata": {
  "kernelspec": {
   "display_name": "Python 3",
   "language": "python",
   "name": "python3"
  },
  "language_info": {
   "codemirror_mode": {
    "name": "ipython",
    "version": 3
   },
   "file_extension": ".py",
   "mimetype": "text/x-python",
   "name": "python",
   "nbconvert_exporter": "python",
   "pygments_lexer": "ipython3",
   "version": "3.6.3"
  }
 },
 "nbformat": 4,
 "nbformat_minor": 2
}
