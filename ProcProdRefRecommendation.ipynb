{
 "cells": [
  {
   "cell_type": "markdown",
   "metadata": {},
   "source": [
    "# Multi-class Refactoring Recommendation with SMOTE and Tree-based Algorithms\n",
    "by Jerelyn Co (Jan 2018)\n",
    "\n",
    "Main Reference: Kumar, L., & Sureka, A. (2017). Application of LSSVM and SMOTE on Seven Open Source Projects for Predicting Refactoring at Class Level. Asia-Pacific Software Engineering Conference (APSEC 2017), 90–99. https://doi.org/10.1109/APSEC.2017.15"
   ]
  },
  {
   "cell_type": "code",
   "execution_count": 111,
   "metadata": {},
   "outputs": [
    {
     "name": "stdout",
     "output_type": "stream",
     "text": [
      "Populating the interactive namespace from numpy and matplotlib\n"
     ]
    },
    {
     "name": "stderr",
     "output_type": "stream",
     "text": [
      "/home/jerelyn/miniconda3/lib/python3.6/site-packages/IPython/core/magics/pylab.py:160: UserWarning: pylab import has clobbered these variables: ['indices', 'f', 'std', 'mean']\n",
      "`%matplotlib` prevents importing * from pylab and numpy\n",
      "  \"\\n`%matplotlib` prevents importing * from pylab and numpy\"\n"
     ]
    }
   ],
   "source": [
    "import os\n",
    "\n",
    "import numpy as np\n",
    "import pandas as pd\n",
    "\n",
    "import xgboost as xgb\n",
    "\n",
    "import seaborn as sn\n",
    "import matplotlib.pyplot as plt\n",
    "\n",
    "from imblearn.over_sampling import SMOTE\n",
    "\n",
    "from sklearn.model_selection import KFold,train_test_split\n",
    "from sklearn import preprocessing\n",
    "from sklearn.model_selection import GridSearchCV\n",
    "\n",
    "from sklearn.ensemble import RandomForestClassifier\n",
    "\n",
    "from sklearn.metrics import recall_score, classification_report, confusion_matrix, accuracy_score\n",
    "\n",
    "\n",
    "%pylab inline\n",
    "from pylab import rcParams\n",
    "rcParams['figure.figsize'] = 10,5"
   ]
  },
  {
   "cell_type": "markdown",
   "metadata": {},
   "source": [
    "### Classification Utils"
   ]
  },
  {
   "cell_type": "code",
   "execution_count": null,
   "metadata": {},
   "outputs": [],
   "source": [
    "TEST_SIZE = 0.3\n",
    "RAND_STATE = 12"
   ]
  },
  {
   "cell_type": "code",
   "execution_count": 121,
   "metadata": {},
   "outputs": [],
   "source": [
    "def get_inputs(data, metrics, binary_csf=True):\n",
    "    if binary_csf:\n",
    "        raw_X, y = data[metrics], data[\"w_ref\"]\n",
    "    else:\n",
    "        # Label encoding for refactoring types. Transforming categorical labels to 0 to n_classes - 1.\n",
    "        le = preprocessing.LabelEncoder()\n",
    "        le.fit(data_df_csf[\"refact_class\"])\n",
    "        data[\"refact_class\"] = le.transform(data[\"refact_class\"])\n",
    "        raw_X, y = data[metrics], data[\"refact_class\"]\n",
    "    scaler = preprocessing.MinMaxScaler(feature_range=(0, 1))\n",
    "    X = scaler.fit_transform(raw_X)\n",
    "    return X, y"
   ]
  },
  {
   "cell_type": "code",
   "execution_count": 123,
   "metadata": {},
   "outputs": [],
   "source": [
    "def metrics_report(true, pred):\n",
    "    print('Model Report:')\n",
    "    print(classification_report(true, pred))\n",
    "\n",
    "    print(\"Accuracy Report:\")\n",
    "    print(accuracy_score(true, pred) * 100)\n",
    "    print(\"-----\\n\")\n"
   ]
  },
  {
   "cell_type": "markdown",
   "metadata": {},
   "source": [
    "## Binary Classification"
   ]
  },
  {
   "cell_type": "code",
   "execution_count": 124,
   "metadata": {},
   "outputs": [],
   "source": [
    "X, y = get_inputs(data_df_csf, metrics)\n",
    "X_train, X_test, y_train, y_test = train_test_split(X, y, test_size=TEST_SIZE, random_state=RAND_STATE)"
   ]
  },
  {
   "cell_type": "markdown",
   "metadata": {},
   "source": [
    "### Using Random Forest"
   ]
  },
  {
   "cell_type": "code",
   "execution_count": 127,
   "metadata": {},
   "outputs": [
    {
     "name": "stdout",
     "output_type": "stream",
     "text": [
      "Best parameters set found on development set: {'n_estimators': 50}\n",
      "Grid scores on development set:\n",
      "0.989 (+/-0.004) for {'n_estimators': 10}\n",
      "0.989 (+/-0.003) for {'n_estimators': 20}\n",
      "0.990 (+/-0.003) for {'n_estimators': 50}\n",
      "0.990 (+/-0.003) for {'n_estimators': 100}\n",
      "Detailed classification report:\n",
      "\n",
      "The model is trained on the full development set.\n",
      "The scores are computed on the full evaluation set.\n",
      "\n",
      "Model 1 RF Report:\n",
      "             precision    recall  f1-score   support\n",
      "\n",
      "          0       0.99      1.00      0.99      1776\n",
      "          1       1.00      0.56      0.72        43\n",
      "\n",
      "avg / total       0.99      0.99      0.99      1819\n",
      "\n",
      "Accuracy 1 RF Report:\n",
      "98.9554700385\n",
      "-----\n",
      "\n",
      "CPU times: user 4.6 s, sys: 8 ms, total: 4.61 s\n",
      "Wall time: 4.61 s\n"
     ]
    }
   ],
   "source": [
    "tuned_parameters = [{'n_estimators': [10, 20, 50, 100]}]\n",
    "cv = 5\n",
    "def RF(X_train, y_train, X_test, y_test, tuning_params, cv):\n",
    "    clf_rf = GridSearchCV(RandomForestClassifier(), tuning_params, cv=cv)\n",
    "    clf_rf.fit(X_train, y_train)\n",
    "\n",
    "    print(\"Best parameters set found on development set: {}\".format(clf_rf.best_params_))\n",
    "    print(\"Grid scores on development set:\")\n",
    "    means = clf_rf.cv_results_['mean_test_score']\n",
    "    stds = clf_rf.cv_results_['std_test_score']\n",
    "    for mean, std, params in zip(means, stds, clf_rf.cv_results_['params']):\n",
    "        print(\"%0.3f (+/-%0.03f) for %r\"\n",
    "              % (mean, std * 2, params))\n",
    "\n",
    "    print(\"Detailed classification report:\\n\")\n",
    "    print(\"The model is trained on the full development set.\")\n",
    "    print(\"The scores are computed on the full evaluation set.\\n\")\n",
    "    y_true, y_pred = y_test, clf_rf.predict(X_test)\n",
    "    metrics_report(1, \"RF\", y_test, y_pred)\n",
    "    \n",
    "    return y_true, y_pred"
   ]
  },
  {
   "cell_type": "markdown",
   "metadata": {},
   "source": [
    "### Using XGBoost\n",
    "\n",
    "[Kaggle Introduction](https://www.kaggle.com/babatee/intro-xgboost-classification)"
   ]
  },
  {
   "cell_type": "code",
   "execution_count": 128,
   "metadata": {},
   "outputs": [
    {
     "name": "stdout",
     "output_type": "stream",
     "text": [
      "Model 1 XGBoost Report:\n",
      "             precision    recall  f1-score   support\n",
      "\n",
      "          0       0.98      1.00      0.99      1776\n",
      "          1       1.00      0.23      0.38        43\n",
      "\n",
      "avg / total       0.98      0.98      0.98      1819\n",
      "\n",
      "Accuracy 1 XGBoost Report:\n",
      "98.1858163826\n",
      "-----\n",
      "\n",
      "CPU times: user 800 ms, sys: 4 ms, total: 804 ms\n",
      "Wall time: 842 ms\n"
     ]
    }
   ],
   "source": [
    "%%time\n",
    "model1 = xgb.XGBClassifier()\n",
    "train_model1 = model1.fit(X_train, y_train)\n",
    "\n",
    "pred1 = train_model1.predict(X_test)\n",
    "\n",
    "metrics_report(1, \"XGBoost\", y_test, pred1)"
   ]
  },
  {
   "cell_type": "code",
   "execution_count": 129,
   "metadata": {},
   "outputs": [
    {
     "name": "stdout",
     "output_type": "stream",
     "text": [
      "Model 3 XGBoost Report:\n",
      "             precision    recall  f1-score   support\n",
      "\n",
      "          0       0.99      1.00      0.99      1776\n",
      "          1       1.00      0.58      0.74        43\n",
      "\n",
      "avg / total       0.99      0.99      0.99      1819\n",
      "\n",
      "Accuracy 3 XGBoost Report:\n",
      "99.0104452996\n",
      "-----\n",
      "\n",
      "CPU times: user 17.1 s, sys: 24 ms, total: 17.1 s\n",
      "Wall time: 4.53 s\n"
     ]
    }
   ],
   "source": [
    "%%time\n",
    "model3 = xgb.XGBClassifier(\n",
    " learning_rate =0.1,\n",
    " n_estimators=1000,\n",
    " max_depth=5,\n",
    " min_child_weight=1,\n",
    " gamma=0,\n",
    " subsample=0.8,\n",
    " colsample_bytree=0.8,\n",
    " objective= 'binary:logistic',\n",
    " nthread=4,\n",
    " scale_pos_weight=1,\n",
    " seed=27)\n",
    "train_model3 = model3.fit(X_train, y_train)\n",
    "pred3 = train_model3.predict(X_test)\n",
    "\n",
    "metrics_report(3, \"XGBoost\", y_test, pred3)"
   ]
  },
  {
   "cell_type": "code",
   "execution_count": null,
   "metadata": {},
   "outputs": [],
   "source": [
    "%%time\n",
    "param_test1 = {\n",
    " 'max_depth':range(3,10,2),\n",
    " 'min_child_weight':range(1,6,2)\n",
    "}\n",
    "gsearch1 = GridSearchCV(estimator = xgb.XGBClassifier( learning_rate =0.1, n_estimators=140, max_depth=5,\n",
    " min_child_weight=1, gamma=0, subsample=0.8, colsample_bytree=0.8,\n",
    " objective= 'binary:logistic', nthread=4, scale_pos_weight=1, seed=27), \n",
    " param_grid = param_test1, scoring='roc_auc',n_jobs=4,iid=False, cv=5)\n",
    "train_model4 = gsearch1.fit(X_train, y_train)\n",
    "pred4 = train_model4.predict(X_test)\n",
    "metrics_report(5, \"XGBoost\", y_test, pred4)"
   ]
  },
  {
   "cell_type": "code",
   "execution_count": 110,
   "metadata": {
    "scrolled": true
   },
   "outputs": [
    {
     "ename": "KeyboardInterrupt",
     "evalue": "",
     "output_type": "error",
     "traceback": [
      "\u001b[0;31m---------------------------------------------------------------------------\u001b[0m",
      "\u001b[0;31mKeyboardInterrupt\u001b[0m                         Traceback (most recent call last)",
      "\u001b[0;32m<ipython-input-110-2a181f7b7e53>\u001b[0m in \u001b[0;36m<module>\u001b[0;34m()\u001b[0m\n\u001b[1;32m      7\u001b[0m  param_grid = param_test2b, scoring='roc_auc',n_jobs=4,iid=False, cv=5)\n\u001b[1;32m      8\u001b[0m \u001b[0;34m\u001b[0m\u001b[0m\n\u001b[0;32m----> 9\u001b[0;31m \u001b[0mtrain_model5\u001b[0m \u001b[0;34m=\u001b[0m \u001b[0mgsearch2b\u001b[0m\u001b[0;34m.\u001b[0m\u001b[0mfit\u001b[0m\u001b[0;34m(\u001b[0m\u001b[0mX_train\u001b[0m\u001b[0;34m,\u001b[0m \u001b[0my_train\u001b[0m\u001b[0;34m)\u001b[0m\u001b[0;34m\u001b[0m\u001b[0m\n\u001b[0m\u001b[1;32m     10\u001b[0m \u001b[0mpred5\u001b[0m \u001b[0;34m=\u001b[0m \u001b[0mtrain_model5\u001b[0m\u001b[0;34m.\u001b[0m\u001b[0mpredict\u001b[0m\u001b[0;34m(\u001b[0m\u001b[0mX_test\u001b[0m\u001b[0;34m)\u001b[0m\u001b[0;34m\u001b[0m\u001b[0m\n\u001b[1;32m     11\u001b[0m \u001b[0;34m\u001b[0m\u001b[0m\n",
      "\u001b[0;32m~/miniconda3/lib/python3.6/site-packages/sklearn/model_selection/_search.py\u001b[0m in \u001b[0;36mfit\u001b[0;34m(self, X, y, groups, **fit_params)\u001b[0m\n\u001b[1;32m    637\u001b[0m                                   error_score=self.error_score)\n\u001b[1;32m    638\u001b[0m           for parameters, (train, test) in product(candidate_params,\n\u001b[0;32m--> 639\u001b[0;31m                                                    cv.split(X, y, groups)))\n\u001b[0m\u001b[1;32m    640\u001b[0m \u001b[0;34m\u001b[0m\u001b[0m\n\u001b[1;32m    641\u001b[0m         \u001b[0;31m# if one choose to see train score, \"out\" will contain train score info\u001b[0m\u001b[0;34m\u001b[0m\u001b[0;34m\u001b[0m\u001b[0m\n",
      "\u001b[0;32m~/miniconda3/lib/python3.6/site-packages/sklearn/externals/joblib/parallel.py\u001b[0m in \u001b[0;36m__call__\u001b[0;34m(self, iterable)\u001b[0m\n\u001b[1;32m    787\u001b[0m                 \u001b[0;31m# consumption.\u001b[0m\u001b[0;34m\u001b[0m\u001b[0;34m\u001b[0m\u001b[0m\n\u001b[1;32m    788\u001b[0m                 \u001b[0mself\u001b[0m\u001b[0;34m.\u001b[0m\u001b[0m_iterating\u001b[0m \u001b[0;34m=\u001b[0m \u001b[0;32mFalse\u001b[0m\u001b[0;34m\u001b[0m\u001b[0m\n\u001b[0;32m--> 789\u001b[0;31m             \u001b[0mself\u001b[0m\u001b[0;34m.\u001b[0m\u001b[0mretrieve\u001b[0m\u001b[0;34m(\u001b[0m\u001b[0;34m)\u001b[0m\u001b[0;34m\u001b[0m\u001b[0m\n\u001b[0m\u001b[1;32m    790\u001b[0m             \u001b[0;31m# Make sure that we get a last message telling us we are done\u001b[0m\u001b[0;34m\u001b[0m\u001b[0;34m\u001b[0m\u001b[0m\n\u001b[1;32m    791\u001b[0m             \u001b[0melapsed_time\u001b[0m \u001b[0;34m=\u001b[0m \u001b[0mtime\u001b[0m\u001b[0;34m.\u001b[0m\u001b[0mtime\u001b[0m\u001b[0;34m(\u001b[0m\u001b[0;34m)\u001b[0m \u001b[0;34m-\u001b[0m \u001b[0mself\u001b[0m\u001b[0;34m.\u001b[0m\u001b[0m_start_time\u001b[0m\u001b[0;34m\u001b[0m\u001b[0m\n",
      "\u001b[0;32m~/miniconda3/lib/python3.6/site-packages/sklearn/externals/joblib/parallel.py\u001b[0m in \u001b[0;36mretrieve\u001b[0;34m(self)\u001b[0m\n\u001b[1;32m    697\u001b[0m             \u001b[0;32mtry\u001b[0m\u001b[0;34m:\u001b[0m\u001b[0;34m\u001b[0m\u001b[0m\n\u001b[1;32m    698\u001b[0m                 \u001b[0;32mif\u001b[0m \u001b[0mgetattr\u001b[0m\u001b[0;34m(\u001b[0m\u001b[0mself\u001b[0m\u001b[0;34m.\u001b[0m\u001b[0m_backend\u001b[0m\u001b[0;34m,\u001b[0m \u001b[0;34m'supports_timeout'\u001b[0m\u001b[0;34m,\u001b[0m \u001b[0;32mFalse\u001b[0m\u001b[0;34m)\u001b[0m\u001b[0;34m:\u001b[0m\u001b[0;34m\u001b[0m\u001b[0m\n\u001b[0;32m--> 699\u001b[0;31m                     \u001b[0mself\u001b[0m\u001b[0;34m.\u001b[0m\u001b[0m_output\u001b[0m\u001b[0;34m.\u001b[0m\u001b[0mextend\u001b[0m\u001b[0;34m(\u001b[0m\u001b[0mjob\u001b[0m\u001b[0;34m.\u001b[0m\u001b[0mget\u001b[0m\u001b[0;34m(\u001b[0m\u001b[0mtimeout\u001b[0m\u001b[0;34m=\u001b[0m\u001b[0mself\u001b[0m\u001b[0;34m.\u001b[0m\u001b[0mtimeout\u001b[0m\u001b[0;34m)\u001b[0m\u001b[0;34m)\u001b[0m\u001b[0;34m\u001b[0m\u001b[0m\n\u001b[0m\u001b[1;32m    700\u001b[0m                 \u001b[0;32melse\u001b[0m\u001b[0;34m:\u001b[0m\u001b[0;34m\u001b[0m\u001b[0m\n\u001b[1;32m    701\u001b[0m                     \u001b[0mself\u001b[0m\u001b[0;34m.\u001b[0m\u001b[0m_output\u001b[0m\u001b[0;34m.\u001b[0m\u001b[0mextend\u001b[0m\u001b[0;34m(\u001b[0m\u001b[0mjob\u001b[0m\u001b[0;34m.\u001b[0m\u001b[0mget\u001b[0m\u001b[0;34m(\u001b[0m\u001b[0;34m)\u001b[0m\u001b[0;34m)\u001b[0m\u001b[0;34m\u001b[0m\u001b[0m\n",
      "\u001b[0;32m~/miniconda3/lib/python3.6/multiprocessing/pool.py\u001b[0m in \u001b[0;36mget\u001b[0;34m(self, timeout)\u001b[0m\n\u001b[1;32m    636\u001b[0m \u001b[0;34m\u001b[0m\u001b[0m\n\u001b[1;32m    637\u001b[0m     \u001b[0;32mdef\u001b[0m \u001b[0mget\u001b[0m\u001b[0;34m(\u001b[0m\u001b[0mself\u001b[0m\u001b[0;34m,\u001b[0m \u001b[0mtimeout\u001b[0m\u001b[0;34m=\u001b[0m\u001b[0;32mNone\u001b[0m\u001b[0;34m)\u001b[0m\u001b[0;34m:\u001b[0m\u001b[0;34m\u001b[0m\u001b[0m\n\u001b[0;32m--> 638\u001b[0;31m         \u001b[0mself\u001b[0m\u001b[0;34m.\u001b[0m\u001b[0mwait\u001b[0m\u001b[0;34m(\u001b[0m\u001b[0mtimeout\u001b[0m\u001b[0;34m)\u001b[0m\u001b[0;34m\u001b[0m\u001b[0m\n\u001b[0m\u001b[1;32m    639\u001b[0m         \u001b[0;32mif\u001b[0m \u001b[0;32mnot\u001b[0m \u001b[0mself\u001b[0m\u001b[0;34m.\u001b[0m\u001b[0mready\u001b[0m\u001b[0;34m(\u001b[0m\u001b[0;34m)\u001b[0m\u001b[0;34m:\u001b[0m\u001b[0;34m\u001b[0m\u001b[0m\n\u001b[1;32m    640\u001b[0m             \u001b[0;32mraise\u001b[0m \u001b[0mTimeoutError\u001b[0m\u001b[0;34m\u001b[0m\u001b[0m\n",
      "\u001b[0;32m~/miniconda3/lib/python3.6/multiprocessing/pool.py\u001b[0m in \u001b[0;36mwait\u001b[0;34m(self, timeout)\u001b[0m\n\u001b[1;32m    633\u001b[0m \u001b[0;34m\u001b[0m\u001b[0m\n\u001b[1;32m    634\u001b[0m     \u001b[0;32mdef\u001b[0m \u001b[0mwait\u001b[0m\u001b[0;34m(\u001b[0m\u001b[0mself\u001b[0m\u001b[0;34m,\u001b[0m \u001b[0mtimeout\u001b[0m\u001b[0;34m=\u001b[0m\u001b[0;32mNone\u001b[0m\u001b[0;34m)\u001b[0m\u001b[0;34m:\u001b[0m\u001b[0;34m\u001b[0m\u001b[0m\n\u001b[0;32m--> 635\u001b[0;31m         \u001b[0mself\u001b[0m\u001b[0;34m.\u001b[0m\u001b[0m_event\u001b[0m\u001b[0;34m.\u001b[0m\u001b[0mwait\u001b[0m\u001b[0;34m(\u001b[0m\u001b[0mtimeout\u001b[0m\u001b[0;34m)\u001b[0m\u001b[0;34m\u001b[0m\u001b[0m\n\u001b[0m\u001b[1;32m    636\u001b[0m \u001b[0;34m\u001b[0m\u001b[0m\n\u001b[1;32m    637\u001b[0m     \u001b[0;32mdef\u001b[0m \u001b[0mget\u001b[0m\u001b[0;34m(\u001b[0m\u001b[0mself\u001b[0m\u001b[0;34m,\u001b[0m \u001b[0mtimeout\u001b[0m\u001b[0;34m=\u001b[0m\u001b[0;32mNone\u001b[0m\u001b[0;34m)\u001b[0m\u001b[0;34m:\u001b[0m\u001b[0;34m\u001b[0m\u001b[0m\n",
      "\u001b[0;32m~/miniconda3/lib/python3.6/threading.py\u001b[0m in \u001b[0;36mwait\u001b[0;34m(self, timeout)\u001b[0m\n\u001b[1;32m    549\u001b[0m             \u001b[0msignaled\u001b[0m \u001b[0;34m=\u001b[0m \u001b[0mself\u001b[0m\u001b[0;34m.\u001b[0m\u001b[0m_flag\u001b[0m\u001b[0;34m\u001b[0m\u001b[0m\n\u001b[1;32m    550\u001b[0m             \u001b[0;32mif\u001b[0m \u001b[0;32mnot\u001b[0m \u001b[0msignaled\u001b[0m\u001b[0;34m:\u001b[0m\u001b[0;34m\u001b[0m\u001b[0m\n\u001b[0;32m--> 551\u001b[0;31m                 \u001b[0msignaled\u001b[0m \u001b[0;34m=\u001b[0m \u001b[0mself\u001b[0m\u001b[0;34m.\u001b[0m\u001b[0m_cond\u001b[0m\u001b[0;34m.\u001b[0m\u001b[0mwait\u001b[0m\u001b[0;34m(\u001b[0m\u001b[0mtimeout\u001b[0m\u001b[0;34m)\u001b[0m\u001b[0;34m\u001b[0m\u001b[0m\n\u001b[0m\u001b[1;32m    552\u001b[0m             \u001b[0;32mreturn\u001b[0m \u001b[0msignaled\u001b[0m\u001b[0;34m\u001b[0m\u001b[0m\n\u001b[1;32m    553\u001b[0m \u001b[0;34m\u001b[0m\u001b[0m\n",
      "\u001b[0;32m~/miniconda3/lib/python3.6/threading.py\u001b[0m in \u001b[0;36mwait\u001b[0;34m(self, timeout)\u001b[0m\n\u001b[1;32m    293\u001b[0m         \u001b[0;32mtry\u001b[0m\u001b[0;34m:\u001b[0m    \u001b[0;31m# restore state no matter what (e.g., KeyboardInterrupt)\u001b[0m\u001b[0;34m\u001b[0m\u001b[0m\n\u001b[1;32m    294\u001b[0m             \u001b[0;32mif\u001b[0m \u001b[0mtimeout\u001b[0m \u001b[0;32mis\u001b[0m \u001b[0;32mNone\u001b[0m\u001b[0;34m:\u001b[0m\u001b[0;34m\u001b[0m\u001b[0m\n\u001b[0;32m--> 295\u001b[0;31m                 \u001b[0mwaiter\u001b[0m\u001b[0;34m.\u001b[0m\u001b[0macquire\u001b[0m\u001b[0;34m(\u001b[0m\u001b[0;34m)\u001b[0m\u001b[0;34m\u001b[0m\u001b[0m\n\u001b[0m\u001b[1;32m    296\u001b[0m                 \u001b[0mgotit\u001b[0m \u001b[0;34m=\u001b[0m \u001b[0;32mTrue\u001b[0m\u001b[0;34m\u001b[0m\u001b[0m\n\u001b[1;32m    297\u001b[0m             \u001b[0;32melse\u001b[0m\u001b[0;34m:\u001b[0m\u001b[0;34m\u001b[0m\u001b[0m\n",
      "\u001b[0;31mKeyboardInterrupt\u001b[0m: "
     ]
    }
   ],
   "source": [
    "param_test2b = {\n",
    " 'min_child_weight':[6,8,10,12]\n",
    "}\n",
    "gsearch2b = GridSearchCV(estimator = xgb.XGBClassifier( learning_rate=0.1, n_estimators=140, max_depth=4,\n",
    " min_child_weight=2, gamma=0, subsample=0.8, colsample_bytree=0.8,\n",
    " objective= 'binary:logistic', nthread=4, scale_pos_weight=1,seed=27), \n",
    " param_grid = param_test2b, scoring='roc_auc',n_jobs=4,iid=False, cv=5)\n",
    "\n",
    "train_model5 = gsearch2b.fit(X_train, y_train)\n",
    "pred5 = train_model5.predict(X_test)\n",
    "\n",
    "metrics_report(5, \"XGBoost\", y_test, pred5)"
   ]
  },
  {
   "cell_type": "markdown",
   "metadata": {},
   "source": [
    "### Applying SMOTE to dataset. \n",
    "As we have seen during our data exploration, the dataset is severely imbalanced.\n",
    "\n",
    "Reference: [Becker](https://www.google.co.jp/search?client=ubuntu&channel=fs&q=ROC+auc+curve+in+python&ie=utf-8&oe=utf-8&gfe_rd=cr&dcr=0&ei=EE1UWuPXNcyQ8QfT1YbAAw)"
   ]
  },
  {
   "cell_type": "code",
   "execution_count": 36,
   "metadata": {},
   "outputs": [],
   "source": [
    "from collections import Counter\n",
    "def plot_pie(y):\n",
    "    target_stats = Counter(y)\n",
    "    labels = list(target_stats.keys())\n",
    "    sizes = list(target_stats.values())\n",
    "    explode = tuple([0.1] * len(target_stats))\n",
    "\n",
    "    fig, ax = plt.subplots()\n",
    "    ax.pie(sizes, explode=explode, labels=labels, shadow=True,\n",
    "           autopct='%1.1f%%')\n",
    "    ax.axis('equal')"
   ]
  },
  {
   "cell_type": "code",
   "execution_count": 37,
   "metadata": {},
   "outputs": [
    {
     "data": {
      "image/png": "[encoded data removed]",
      "text/plain": [
       "<matplotlib.figure.Figure at 0x7f208c51fcc0>"
      ]
     },
     "metadata": {},
     "output_type": "display_data"
    }
   ],
   "source": [
    "plot_pie(y_train)"
   ]
  },
  {
   "cell_type": "code",
   "execution_count": 51,
   "metadata": {},
   "outputs": [
    {
     "name": "stderr",
     "output_type": "stream",
     "text": [
      "/home/jerelyn/miniconda3/lib/python3.6/site-packages/sklearn/utils/deprecation.py:77: DeprecationWarning: Function _ratio_float is deprecated; Use a float for 'ratio' is deprecated from version 0.2. The support will be removed in 0.4. Use a dict, str, or a callable instead.\n",
      "  warnings.warn(msg, category=DeprecationWarning)\n"
     ]
    }
   ],
   "source": [
    "sm = SMOTE(random_state=12, ratio=1.0)\n",
    "X_train_res, y_train_res = sm.fit_sample(X_train, y_train)"
   ]
  },
  {
   "cell_type": "markdown",
   "metadata": {},
   "source": [
    "After SMOTE, we should see equal class distribution from synthetic samples generation."
   ]
  },
  {
   "cell_type": "code",
   "execution_count": 49,
   "metadata": {},
   "outputs": [
    {
     "data": {
      "image/png": "[encoded data removed]",
      "text/plain": [
       "<matplotlib.figure.Figure at 0x7f208c218c88>"
      ]
     },
     "metadata": {},
     "output_type": "display_data"
    }
   ],
   "source": [
    "plot_pie(y_train_res)"
   ]
  },
  {
   "cell_type": "markdown",
   "metadata": {},
   "source": [
    "Let's try again"
   ]
  },
  {
   "cell_type": "code",
   "execution_count": 52,
   "metadata": {},
   "outputs": [
    {
     "name": "stdout",
     "output_type": "stream",
     "text": [
      "Best parameters set found on development set: {'n_estimators': 50}\n",
      "Grid scores on development set:\n",
      "0.994 (+/-0.010) for {'n_estimators': 10}\n",
      "0.996 (+/-0.009) for {'n_estimators': 20}\n",
      "0.997 (+/-0.008) for {'n_estimators': 50}\n",
      "0.996 (+/-0.008) for {'n_estimators': 100}\n",
      "Detailed classification report:\n",
      "\n",
      "The model is trained on the full development set.\n",
      "The scores are computed on the full evaluation set.\n",
      "\n",
      "Model 2 RF Report:\n",
      "             precision    recall  f1-score   support\n",
      "\n",
      "          0       0.99      1.00      0.99      1776\n",
      "          1       0.93      0.58      0.71        43\n",
      "\n",
      "avg / total       0.99      0.99      0.99      1819\n",
      "\n",
      "Accuracy 2 RF Report:\n",
      "98.9004947774\n",
      "-----\n",
      "\n"
     ]
    }
   ],
   "source": [
    "scores = ['precision', 'recall']\n",
    "tuned_parameters = [{'n_estimators': [10, 20, 50, 100]}]\n",
    "\n",
    "clf_rf = GridSearchCV(RandomForestClassifier(), tuned_parameters, cv=5)\n",
    "clf_rf.fit(X_train_res, y_train_res)\n",
    "\n",
    "print(\"Best parameters set found on development set: {}\".format(clf_rf.best_params_))\n",
    "print(\"Grid scores on development set:\")\n",
    "means = clf_rf.cv_results_['mean_test_score']\n",
    "stds = clf_rf.cv_results_['std_test_score']\n",
    "for mean, std, params in zip(means, stds, clf_rf.cv_results_['params']):\n",
    "    print(\"%0.3f (+/-%0.03f) for %r\"\n",
    "          % (mean, std * 2, params))\n",
    "\n",
    "print(\"Detailed classification report:\\n\")\n",
    "print(\"The model is trained on the full development set.\")\n",
    "print(\"The scores are computed on the full evaluation set.\\n\")\n",
    "y_true, y_pred = y_test, clf_rf.predict(X_test)\n",
    "metrics_report(2, \"RF\", y_test, y_pred)"
   ]
  },
  {
   "cell_type": "markdown",
   "metadata": {},
   "source": [
    "Let's try to reduce features by using the RF's built-in feature importances"
   ]
  },
  {
   "cell_type": "code",
   "execution_count": 53,
   "metadata": {},
   "outputs": [
    {
     "name": "stdout",
     "output_type": "stream",
     "text": [
      "Feature ranking:\n",
      "1. feature RFC (0.054804)\n",
      "2. feature TNLM (0.040856)\n",
      "3. feature NLM (0.039006)\n",
      "4. feature TLLOC (0.036996)\n",
      "5. feature TNLPA (0.032058)\n",
      "6. feature CBOI (0.031287)\n",
      "7. feature CLOC (0.029740)\n",
      "8. feature TLOC (0.028284)\n",
      "9. feature TNLA (0.027804)\n",
      "10. feature LLOC (0.027769)\n",
      "11. feature NLPA (0.026987)\n",
      "12. feature LOC (0.025440)\n",
      "13. feature NOI (0.024349)\n",
      "14. feature TCLOC (0.023869)\n",
      "15. feature Size Metric Rules (0.023747)\n",
      "16. feature WMC (0.021985)\n",
      "17. feature TNLPM (0.020890)\n",
      "18. feature TNPM (0.020564)\n",
      "19. feature NLPM (0.019610)\n",
      "20. feature CD (0.016998)\n",
      "21. feature NII (0.016757)\n",
      "22. feature Naming Rules (0.015086)\n",
      "23. feature CBO (0.014277)\n",
      "24. feature NM (0.013543)\n",
      "25. feature TNPA (0.013350)\n",
      "26. feature Documentation Metric Rules (0.013284)\n",
      "27. feature Design Rules (0.013215)\n",
      "28. feature TNM (0.012422)\n",
      "29. feature Cohesion Metric Rules (0.012107)\n",
      "30. feature NOD (0.011262)\n",
      "31. feature TCD (0.011025)\n",
      "32. feature TNOS (0.010943)\n",
      "33. feature JUnit Rules (0.010254)\n",
      "34. feature PUA (0.010108)\n",
      "35. feature NL (0.010053)\n",
      "36. feature NLE (0.009974)\n",
      "37. feature WarningMinor (0.009803)\n",
      "38. feature TNG (0.009373)\n",
      "39. feature NLA (0.008800)\n",
      "40. feature NPA (0.008634)\n",
      "41. feature NA (0.008309)\n",
      "42. feature NOS (0.007600)\n",
      "43. feature AD (0.007559)\n",
      "44. feature Coupling Metric Rules (0.007537)\n",
      "45. feature LCOM5 (0.007419)\n",
      "46. feature NOC (0.007317)\n",
      "47. feature NPM (0.007306)\n",
      "48. feature NG (0.007288)\n",
      "49. feature TNA (0.007076)\n",
      "50. feature PDA (0.007039)\n",
      "51. feature TNS (0.006897)\n",
      "52. feature DLOC (0.006895)\n",
      "53. feature NLS (0.006395)\n",
      "54. feature String and StringBuffer Rules (0.006039)\n",
      "55. feature DIT (0.005774)\n",
      "56. feature WarningMajor (0.005397)\n",
      "57. feature TNLG (0.005095)\n",
      "58. feature TNLS (0.005043)\n",
      "59. feature WarningInfo (0.004851)\n",
      "60. feature NLG (0.004577)\n",
      "61. feature CC (0.004436)\n",
      "62. feature Complexity Metric Rules (0.004287)\n",
      "63. feature Brace Rules (0.004063)\n",
      "64. feature CLLC (0.004000)\n",
      "65. feature NOP (0.003817)\n",
      "66. feature NOA (0.003764)\n",
      "67. feature NS (0.003089)\n",
      "68. feature Controversial Rules (0.003036)\n",
      "69. feature Unnecessary and Unused Code Rules (0.002680)\n",
      "70. feature Optimization Rules (0.002673)\n",
      "71. feature CLC (0.002613)\n",
      "72. feature Basic Rules (0.002335)\n",
      "73. feature LDC (0.001961)\n",
      "74. feature WarningCritical (0.001737)\n",
      "75. feature Strict Exception Rules (0.001680)\n",
      "76. feature CCL (0.001614)\n",
      "77. feature Inheritance Metric Rules (0.001599)\n",
      "78. feature CI (0.001573)\n",
      "79. feature CCO (0.001426)\n",
      "80. feature Jakarta Commons Logging Rules (0.001416)\n",
      "81. feature Clone Metric Rules (0.001411)\n",
      "82. feature Empty Code Rules (0.001402)\n",
      "83. feature Type Resolution Rules (0.001231)\n",
      "84. feature Java Logging Rules (0.001158)\n",
      "85. feature Security Code Guideline Rules (0.000723)\n",
      "86. feature LLDC (0.000604)\n",
      "87. feature JavaBean Rules (0.000512)\n",
      "88. feature Import Statement Rules (0.000315)\n",
      "89. feature Migration Rules (0.000053)\n",
      "90. feature Clone Implementation Rules (0.000028)\n",
      "91. feature Vulnerability Rules (0.000019)\n",
      "92. feature J2EE Rules (0.000018)\n",
      "93. feature Migration15 Rules (0.000000)\n",
      "94. feature Migration14 Rules (0.000000)\n",
      "95. feature Migration13 Rules (0.000000)\n",
      "96. feature MigratingToJUnit4 Rules (0.000000)\n",
      "97. feature Finalizer Rules (0.000000)\n",
      "98. feature Coupling Rules (0.000000)\n",
      "99. feature Comment Rules (0.000000)\n",
      "100. feature Code Size Rules (0.000000)\n",
      "101. feature Android Rules (0.000000)\n",
      "102. feature WarningBlocker (0.000000)\n"
     ]
    },
    {
     "data": {
      "image/png": "[encoded data removed]",
      "text/plain": [
       "<matplotlib.figure.Figure at 0x7f2080fc5e80>"
      ]
     },
     "metadata": {},
     "output_type": "display_data"
    }
   ],
   "source": [
    "importances = clf_rf.best_estimator_.feature_importances_\n",
    "std = np.std([tree.feature_importances_ for tree in clf_rf.best_estimator_.estimators_],\n",
    "             axis=0)\n",
    "indices = np.argsort(importances)[::-1]\n",
    "\n",
    "# Print the feature ranking\n",
    "print(\"Feature ranking:\")\n",
    "\n",
    "for f in range(X.shape[1]):\n",
    "    print(\"%d. feature %s (%f)\" % (f + 1, metrics[indices[f]], importances[indices[f]]))\n",
    "\n",
    "# Plot the feature importances of the forest\n",
    "plt.figure()\n",
    "plt.title(\"Feature importances\")\n",
    "plt.bar(range(X.shape[1]), importances[indices],\n",
    "       color=\"r\", yerr=std[indices], align=\"center\")\n",
    "plt.xticks(range(X.shape[1]), indices)\n",
    "plt.xlim([-1, X.shape[1]])\n",
    "plt.show()"
   ]
  },
  {
   "cell_type": "code",
   "execution_count": 54,
   "metadata": {},
   "outputs": [],
   "source": [
    "top_features = []\n",
    "for i in indices[:30]:\n",
    "    top_features.append(metrics[i])"
   ]
  },
  {
   "cell_type": "markdown",
   "metadata": {},
   "source": [
    "Attempting feature reduction"
   ]
  },
  {
   "cell_type": "code",
   "execution_count": 55,
   "metadata": {},
   "outputs": [],
   "source": [
    "X, y = get_inputs(data_df_csf, top_features)\n",
    "X_train, X_test,y_train, y_test = train_test_split(X, y, test_size=test_size, random_state=random_state)"
   ]
  },
  {
   "cell_type": "code",
   "execution_count": 56,
   "metadata": {},
   "outputs": [
    {
     "name": "stdout",
     "output_type": "stream",
     "text": [
      "Best parameters set found on development set: {'n_estimators': 100}\n",
      "Grid scores on development set:\n",
      "0.988 (+/-0.002) for {'n_estimators': 10}\n",
      "0.989 (+/-0.004) for {'n_estimators': 20}\n",
      "0.989 (+/-0.003) for {'n_estimators': 50}\n",
      "0.989 (+/-0.003) for {'n_estimators': 100}\n",
      "Detailed classification report:\n",
      "\n",
      "The model is trained on the full development set.\n",
      "The scores are computed on the full evaluation set.\n",
      "\n",
      "Model 3 RF Report:\n",
      "             precision    recall  f1-score   support\n",
      "\n",
      "          0       0.99      1.00      0.99      1776\n",
      "          1       0.96      0.58      0.72        43\n",
      "\n",
      "avg / total       0.99      0.99      0.99      1819\n",
      "\n",
      "Accuracy 3 RF Report:\n",
      "98.9554700385\n",
      "-----\n",
      "\n"
     ]
    }
   ],
   "source": [
    "tuned_parameters = [{'n_estimators': [10, 20, 50, 100]}]\n",
    "\n",
    "clf_rf = GridSearchCV(RandomForestClassifier(n_jobs=-1), tuned_parameters, cv=5)\n",
    "clf_rf.fit(X_train, y_train)\n",
    "\n",
    "print(\"Best parameters set found on development set: {}\".format(clf_rf.best_params_))\n",
    "print(\"Grid scores on development set:\")\n",
    "means = clf_rf.cv_results_['mean_test_score']\n",
    "stds = clf_rf.cv_results_['std_test_score']\n",
    "for mean, std, params in zip(means, stds, clf_rf.cv_results_['params']):\n",
    "    print(\"%0.3f (+/-%0.03f) for %r\"\n",
    "          % (mean, std * 2, params))\n",
    "\n",
    "print(\"Detailed classification report:\\n\")\n",
    "print(\"The model is trained on the full development set.\")\n",
    "print(\"The scores are computed on the full evaluation set.\\n\")\n",
    "y_true, y_pred = y_test, clf_rf.predict(X_test)\n",
    "metrics_report(3, \"RF\", y_test, y_pred)"
   ]
  },
  {
   "cell_type": "markdown",
   "metadata": {},
   "source": [
    "## Multi-class Classification"
   ]
  },
  {
   "cell_type": "code",
   "execution_count": 101,
   "metadata": {},
   "outputs": [
    {
     "data": {
      "text/plain": [
       "5    5934\n",
       "0      36\n",
       "6      27\n",
       "7      17\n",
       "3      17\n",
       "4      12\n",
       "2      10\n",
       "1      10\n",
       "Name: refact_class, dtype: int64"
      ]
     },
     "execution_count": 101,
     "metadata": {},
     "output_type": "execute_result"
    }
   ],
   "source": [
    "data_df_csf[\"refact_class\"].value_counts()"
   ]
  },
  {
   "cell_type": "code",
   "execution_count": 62,
   "metadata": {},
   "outputs": [],
   "source": [
    "X, y = get_inputs(data_df_csf, metrics, binary_csf=False)\n",
    "X_train, X_test, y_train, y_test = train_test_split(X, y, test_size=TEST_SIZE, random_state=RAND_STATE)"
   ]
  },
  {
   "cell_type": "markdown",
   "metadata": {},
   "source": [
    "## Random Forest"
   ]
  },
  {
   "cell_type": "markdown",
   "metadata": {},
   "source": [
    "### Without SMOTE"
   ]
  },
  {
   "cell_type": "code",
   "execution_count": 65,
   "metadata": {
    "scrolled": true
   },
   "outputs": [
    {
     "name": "stderr",
     "output_type": "stream",
     "text": [
      "/home/jerelyn/miniconda3/lib/python3.6/site-packages/sklearn/model_selection/_split.py:605: Warning: The least populated class in y has only 4 members, which is too few. The minimum number of members in any class cannot be less than n_splits=5.\n",
      "  % (min_groups, self.n_splits)), Warning)\n"
     ]
    },
    {
     "name": "stdout",
     "output_type": "stream",
     "text": [
      "Best parameters set found on development set: {'n_estimators': 50}\n",
      "Grid scores on development set:\n",
      "0.988 (+/-0.005) for {'n_estimators': 10}\n",
      "0.988 (+/-0.005) for {'n_estimators': 20}\n",
      "0.989 (+/-0.005) for {'n_estimators': 50}\n",
      "0.989 (+/-0.005) for {'n_estimators': 100}\n",
      "Detailed classification report:\n",
      "\n",
      "The model is trained on the full development set.\n",
      "The scores are computed on the full evaluation set.\n",
      "\n",
      "Model 4 RF Report:\n",
      "             precision    recall  f1-score   support\n",
      "\n",
      "          0       0.70      0.64      0.67        11\n",
      "          1       1.00      0.67      0.80         3\n",
      "          2       0.00      0.00      0.00         6\n",
      "          3       1.00      0.33      0.50         6\n",
      "          4       1.00      1.00      1.00         2\n",
      "          5       0.99      1.00      0.99      1776\n",
      "          6       0.86      0.67      0.75         9\n",
      "          7       1.00      0.33      0.50         6\n",
      "\n",
      "avg / total       0.98      0.99      0.98      1819\n",
      "\n",
      "Accuracy 4 RF Report:\n",
      "98.7905442551\n",
      "-----\n",
      "\n"
     ]
    },
    {
     "name": "stderr",
     "output_type": "stream",
     "text": [
      "/home/jerelyn/miniconda3/lib/python3.6/site-packages/sklearn/metrics/classification.py:1135: UndefinedMetricWarning: Precision and F-score are ill-defined and being set to 0.0 in labels with no predicted samples.\n",
      "  'precision', 'predicted', average, warn_for)\n"
     ]
    }
   ],
   "source": [
    "tuned_parameters = [{'n_estimators': [10, 20, 50, 100]}]\n",
    "\n",
    "clf_rf = GridSearchCV(RandomForestClassifier(), tuned_parameters, cv=5)\n",
    "clf_rf.fit(X_train, y_train)\n",
    "\n",
    "print(\"Best parameters set found on development set: {}\".format(clf_rf.best_params_))\n",
    "print(\"Grid scores on development set:\")\n",
    "means = clf_rf.cv_results_['mean_test_score']\n",
    "stds = clf_rf.cv_results_['std_test_score']\n",
    "for mean, std, params in zip(means, stds, clf_rf.cv_results_['params']):\n",
    "    print(\"%0.3f (+/-%0.03f) for %r\"\n",
    "          % (mean, std * 2, params))\n",
    "\n",
    "print(\"Detailed classification report:\\n\")\n",
    "print(\"The model is trained on the full development set.\")\n",
    "print(\"The scores are computed on the full evaluation set.\\n\")\n",
    "y_true, y_pred = y_test, clf_rf.predict(X_test)\n",
    "metrics_report(4, \"RF\", y_true, y_pred)"
   ]
  },
  {
   "cell_type": "markdown",
   "metadata": {},
   "source": [
    "RF is throwing warnings on the under-represented classes.. Not surprising."
   ]
  },
  {
   "cell_type": "markdown",
   "metadata": {},
   "source": [
    "### With SMOTE"
   ]
  },
  {
   "cell_type": "code",
   "execution_count": 102,
   "metadata": {},
   "outputs": [
    {
     "name": "stderr",
     "output_type": "stream",
     "text": [
      "/home/jerelyn/miniconda3/lib/python3.6/site-packages/sklearn/utils/deprecation.py:77: DeprecationWarning: Function _ratio_float is deprecated; Use a float for 'ratio' is deprecated from version 0.2. The support will be removed in 0.4. Use a dict, str, or a callable instead.\n",
      "  warnings.warn(msg, category=DeprecationWarning)\n"
     ]
    }
   ],
   "source": [
    "sm = SMOTE(random_state=12, ratio=1.0, k_neighbors=3)\n",
    "X_train_res, y_train_res = sm.fit_sample(np.asarray(X_train), np.asarray(y_train))"
   ]
  },
  {
   "cell_type": "code",
   "execution_count": 103,
   "metadata": {
    "scrolled": true
   },
   "outputs": [
    {
     "name": "stdout",
     "output_type": "stream",
     "text": [
      "Best parameters set found on development set: {'n_estimators': 20}\n",
      "Grid scores on development set:\n",
      "0.991 (+/-0.004) for {'n_estimators': 10}\n",
      "0.992 (+/-0.004) for {'n_estimators': 20}\n",
      "0.992 (+/-0.004) for {'n_estimators': 50}\n",
      "0.992 (+/-0.004) for {'n_estimators': 100}\n",
      "Detailed classification report:\n",
      "\n",
      "The model is trained on the full development set.\n",
      "The scores are computed on the full evaluation set.\n",
      "\n",
      "             precision    recall  f1-score   support\n",
      "\n",
      "          0       0.70      0.64      0.67        11\n",
      "          1       1.00      0.67      0.80         3\n",
      "          2       0.00      0.00      0.00         6\n",
      "          3       1.00      0.33      0.50         6\n",
      "          4       1.00      1.00      1.00         2\n",
      "          5       0.99      1.00      0.99      1776\n",
      "          6       0.86      0.67      0.75         9\n",
      "          7       1.00      0.33      0.50         6\n",
      "\n",
      "avg / total       0.98      0.99      0.98      1819\n",
      "\n"
     ]
    },
    {
     "name": "stderr",
     "output_type": "stream",
     "text": [
      "/home/jerelyn/miniconda3/lib/python3.6/site-packages/sklearn/metrics/classification.py:1135: UndefinedMetricWarning: Precision and F-score are ill-defined and being set to 0.0 in labels with no predicted samples.\n",
      "  'precision', 'predicted', average, warn_for)\n"
     ]
    }
   ],
   "source": [
    "tuned_parameters = [{'n_estimators': [10, 20, 50, 100]}]\n",
    "\n",
    "clf_rf = GridSearchCV(RandomForestClassifier(), tuned_parameters, cv=5)\n",
    "clf_rf.fit(X_train_res, y_train_res)\n",
    "\n",
    "print(\"Best parameters set found on development set: {}\".format(clf_rf.best_params_))\n",
    "print(\"Grid scores on development set:\")\n",
    "means = clf_rf.cv_results_['mean_test_score']\n",
    "stds = clf_rf.cv_results_['std_test_score']\n",
    "for mean, std, params in zip(means, stds, clf_rf.cv_results_['params']):\n",
    "    print(\"%0.3f (+/-%0.03f) for %r\"\n",
    "          % (mean, std * 2, params))\n",
    "\n",
    "print(\"Detailed classification report:\\n\")\n",
    "print(\"The model is trained on the full development set.\")\n",
    "print(\"The scores are computed on the full evaluation set.\\n\")\n",
    "y_true, y_pred = y_test, clf_rf.predict(X_test)\n",
    "print(classification_report(y_true, y_pred))"
   ]
  },
  {
   "cell_type": "markdown",
   "metadata": {},
   "source": [
    "Low scores at refactoring type 2... Hmm. I wonder why."
   ]
  },
  {
   "cell_type": "code",
   "execution_count": 105,
   "metadata": {},
   "outputs": [
    {
     "name": "stdout",
     "output_type": "stream",
     "text": [
      "Feature ranking:\n",
      "1. feature LCOM5 (0.034333)\n",
      "2. feature JUnit Rules (0.027441)\n",
      "3. feature WarningMinor (0.027303)\n",
      "4. feature Coupling Metric Rules (0.026668)\n",
      "5. feature Documentation Metric Rules (0.026470)\n",
      "6. feature NG (0.022205)\n",
      "7. feature AD (0.020732)\n",
      "8. feature Design Rules (0.020552)\n",
      "9. feature LLOC (0.020504)\n",
      "10. feature TNPM (0.020040)\n",
      "11. feature NII (0.019436)\n",
      "12. feature PUA (0.019194)\n",
      "13. feature CD (0.018275)\n",
      "14. feature DIT (0.018072)\n",
      "15. feature CBO (0.017878)\n",
      "16. feature NS (0.017781)\n",
      "17. feature NM (0.017243)\n",
      "18. feature TNG (0.016911)\n",
      "19. feature NA (0.016829)\n",
      "20. feature NPM (0.016226)\n",
      "21. feature NLS (0.016018)\n",
      "22. feature TLLOC (0.015509)\n",
      "23. feature WarningInfo (0.015094)\n",
      "24. feature WarningCritical (0.015068)\n",
      "25. feature NOI (0.014559)\n",
      "26. feature NOA (0.014404)\n",
      "27. feature TNLA (0.014380)\n",
      "28. feature Empty Code Rules (0.013834)\n",
      "29. feature CBOI (0.013768)\n",
      "30. feature NLPM (0.013610)\n",
      "31. feature TNM (0.013488)\n",
      "32. feature TCD (0.013413)\n",
      "33. feature Unnecessary and Unused Code Rules (0.013401)\n",
      "34. feature Size Metric Rules (0.013319)\n",
      "35. feature TNPA (0.013206)\n",
      "36. feature Brace Rules (0.012481)\n",
      "37. feature TNOS (0.011774)\n",
      "38. feature Type Resolution Rules (0.011160)\n",
      "39. feature CC (0.011102)\n",
      "40. feature CI (0.010807)\n",
      "41. feature CLC (0.010782)\n",
      "42. feature RFC (0.010649)\n",
      "43. feature TNS (0.010567)\n",
      "44. feature NLA (0.010482)\n",
      "45. feature Java Logging Rules (0.010430)\n",
      "46. feature CLOC (0.010384)\n",
      "47. feature TNA (0.010339)\n",
      "48. feature NPA (0.010244)\n",
      "49. feature NOP (0.009933)\n",
      "50. feature NLG (0.009570)\n",
      "51. feature WMC (0.009367)\n",
      "52. feature PDA (0.009330)\n",
      "53. feature TNLPA (0.009325)\n",
      "54. feature WarningMajor (0.008919)\n",
      "55. feature NL (0.008637)\n",
      "56. feature TLOC (0.008524)\n",
      "57. feature NLPA (0.008064)\n",
      "58. feature String and StringBuffer Rules (0.007842)\n",
      "59. feature NOS (0.007558)\n",
      "60. feature TNLM (0.007472)\n",
      "61. feature TNLS (0.006848)\n",
      "62. feature NLM (0.006819)\n",
      "63. feature Clone Metric Rules (0.006635)\n",
      "64. feature TNLG (0.006204)\n",
      "65. feature Complexity Metric Rules (0.005875)\n",
      "66. feature Optimization Rules (0.005861)\n",
      "67. feature NOD (0.005612)\n",
      "68. feature Cohesion Metric Rules (0.005586)\n",
      "69. feature LOC (0.004953)\n",
      "70. feature Strict Exception Rules (0.004781)\n",
      "71. feature Basic Rules (0.004714)\n",
      "72. feature CCL (0.004590)\n",
      "73. feature NOC (0.004555)\n",
      "74. feature TNLPM (0.004533)\n",
      "75. feature LLDC (0.004324)\n",
      "76. feature CLLC (0.004169)\n",
      "77. feature NLE (0.004058)\n",
      "78. feature TCLOC (0.004049)\n",
      "79. feature CCO (0.003982)\n",
      "80. feature Controversial Rules (0.003948)\n",
      "81. feature DLOC (0.003740)\n",
      "82. feature Import Statement Rules (0.003426)\n",
      "83. feature Naming Rules (0.002500)\n",
      "84. feature Migration Rules (0.002256)\n",
      "85. feature Security Code Guideline Rules (0.001992)\n",
      "86. feature Inheritance Metric Rules (0.000468)\n",
      "87. feature LDC (0.000453)\n",
      "88. feature Jakarta Commons Logging Rules (0.000125)\n",
      "89. feature JavaBean Rules (0.000038)\n",
      "90. feature Migration15 Rules (0.000000)\n",
      "91. feature J2EE Rules (0.000000)\n",
      "92. feature Migration14 Rules (0.000000)\n",
      "93. feature Migration13 Rules (0.000000)\n",
      "94. feature MigratingToJUnit4 Rules (0.000000)\n",
      "95. feature WarningBlocker (0.000000)\n",
      "96. feature Finalizer Rules (0.000000)\n",
      "97. feature Coupling Rules (0.000000)\n",
      "98. feature Comment Rules (0.000000)\n",
      "99. feature Code Size Rules (0.000000)\n",
      "100. feature Clone Implementation Rules (0.000000)\n",
      "101. feature Android Rules (0.000000)\n",
      "102. feature Vulnerability Rules (0.000000)\n"
     ]
    },
    {
     "data": {
      "image/png": "[encoded data removed]",
      "text/plain": [
       "<matplotlib.figure.Figure at 0x7f2080c99f98>"
      ]
     },
     "metadata": {},
     "output_type": "display_data"
    }
   ],
   "source": [
    "importances = clf_rf.best_estimator_.feature_importances_\n",
    "std = np.std([tree.feature_importances_ for tree in clf_rf.best_estimator_.estimators_],\n",
    "             axis=0)\n",
    "indices = np.argsort(importances)[::-1]\n",
    "\n",
    "# Print the feature ranking\n",
    "print(\"Feature ranking:\")\n",
    "\n",
    "for f in range(X.shape[1]):\n",
    "    print(\"%d. feature %s (%f)\" % (f + 1, metrics[indices[f]], importances[indices[f]]))\n",
    "\n",
    "# Plot the feature importances of the forest\n",
    "plt.figure()\n",
    "plt.title(\"Feature importances\")\n",
    "plt.bar(range(X.shape[1]), importances[indices],\n",
    "       color=\"r\", yerr=std[indices], align=\"center\")\n",
    "plt.xticks(range(X.shape[1]), indices)\n",
    "plt.xlim([-1, X.shape[1]])\n",
    "plt.show()"
   ]
  },
  {
   "cell_type": "code",
   "execution_count": null,
   "metadata": {},
   "outputs": [],
   "source": [
    "conf_mat = confusion_matrix(y_true, y_pred)\n",
    "\n",
    "df_cm = pd.DataFrame(conf_mat, range(8), range(8))\n",
    "\n",
    "sn.set(font_scale=1.4)\n",
    "sn.heatmap(df_cm, annot=True,annot_kws={\"size\": 16})"
   ]
  },
  {
   "cell_type": "markdown",
   "metadata": {},
   "source": [
    "Hahahaha why did I even try. :("
   ]
  },
  {
   "cell_type": "markdown",
   "metadata": {},
   "source": [
    "## What was done\n",
    "- Multi-class prediction\n",
    "\n",
    "## Preliminary Findings\n",
    "\n",
    "- Despite the innate capability of tree-based algorithms to somehow compensate for unbalanced datasets, resampling has to be done in this specific application because of the severely unbalanced dataset. If we don't, then training would be problematic as there will be some classes that may be severely under-represented / zero.\n",
    "\n",
    "## What else can be done\n",
    "\n",
    "- Try out binary classification\n",
    "- Hyperparameter tuning in XGBoost\n",
    "- ROC AUC Curves\n",
    "- Confusion Matrix\n",
    "- Feature selection using the results of the algorithms' features significance\n",
    "- Compare XGBoost's performance"
   ]
  },
  {
   "cell_type": "code",
   "execution_count": null,
   "metadata": {},
   "outputs": [],
   "source": []
  },
  {
   "cell_type": "code",
   "execution_count": null,
   "metadata": {},
   "outputs": [],
   "source": []
  }
 ],
 "metadata": {
  "kernelspec": {
   "display_name": "Python 3",
   "language": "python",
   "name": "python3"
  },
  "language_info": {
   "codemirror_mode": {
    "name": "ipython",
    "version": 3
   },
   "file_extension": ".py",
   "mimetype": "text/x-python",
   "name": "python",
   "nbconvert_exporter": "python",
   "pygments_lexer": "ipython3",
   "version": "3.6.3"
  }
 },
 "nbformat": 4,
 "nbformat_minor": 2
}
